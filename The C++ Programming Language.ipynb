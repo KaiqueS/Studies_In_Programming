{
 "cells": [
  {
   "cell_type": "markdown",
   "metadata": {},
   "source": [
    "# Chapter 1 - Notes To The Reader"
   ]
  },
  {
   "cell_type": "code",
   "execution_count": null,
   "metadata": {},
   "outputs": [],
   "source": []
  },
  {
   "cell_type": "markdown",
   "metadata": {},
   "source": [
    "# Chapter 2 - A Tour Of C++: The Basics"
   ]
  },
  {
   "cell_type": "code",
   "execution_count": null,
   "metadata": {},
   "outputs": [],
   "source": []
  },
  {
   "cell_type": "markdown",
   "metadata": {},
   "source": [
    "# Chapter 3 - A Tour Of C++: Abstraction Mechanisms"
   ]
  },
  {
   "cell_type": "code",
   "execution_count": null,
   "metadata": {},
   "outputs": [],
   "source": []
  },
  {
   "cell_type": "markdown",
   "metadata": {},
   "source": [
    "# Chapter 4 - A Tour Of C++: Containers And Algorithms"
   ]
  },
  {
   "cell_type": "code",
   "execution_count": null,
   "metadata": {},
   "outputs": [],
   "source": []
  },
  {
   "cell_type": "markdown",
   "metadata": {},
   "source": [
    "# Chapter 5 - A Tour Of C++: Concurrency And Utilities"
   ]
  },
  {
   "cell_type": "code",
   "execution_count": null,
   "metadata": {},
   "outputs": [],
   "source": []
  },
  {
   "cell_type": "markdown",
   "metadata": {},
   "source": [
    "# Chapter 6 - Types And Declarations"
   ]
  },
  {
   "cell_type": "code",
   "execution_count": null,
   "metadata": {},
   "outputs": [],
   "source": []
  },
  {
   "cell_type": "markdown",
   "metadata": {},
   "source": [
    "# Chapter 7 - Pointers, Arrays, And References"
   ]
  },
  {
   "cell_type": "code",
   "execution_count": null,
   "metadata": {},
   "outputs": [],
   "source": []
  },
  {
   "cell_type": "markdown",
   "metadata": {},
   "source": [
    "\n",
    "# Chapter 8 - Structures Unions, And Enumerations"
   ]
  },
  {
   "cell_type": "code",
   "execution_count": null,
   "metadata": {},
   "outputs": [],
   "source": []
  },
  {
   "cell_type": "markdown",
   "metadata": {},
   "source": [
    "### Section 8.4.2 - Plain Enums\n",
    "\n",
    "Enumerators, i.e., members of <b>plain enum</b> have their scope \"leaked\" to the same scope as of their enum. They are also implicitly converted to int, i.e., their value can be used in int's, even though the converse is not possible. E.g.:"
   ]
  },
  {
   "cell_type": "code",
   "execution_count": 1,
   "metadata": {},
   "outputs": [
    {
     "name": "stdout",
     "output_type": "stream",
     "text": [
      "1\n",
      "0\n"
     ]
    },
    {
     "data": {
      "text/plain": [
       "@0x7f6942a24b60"
      ]
     },
     "execution_count": 1,
     "metadata": {},
     "output_type": "execute_result"
    }
   ],
   "source": [
    "#include<iostream>\n",
    "\n",
    "enum Leaking{ \n",
    "    \n",
    "    first_leak, second_leak\n",
    "};\n",
    "\n",
    "int get_value = second_leak; // example of scope leak\n",
    "\n",
    "std::cout << get_value << \"\\n\";\n",
    "\n",
    "int receiver = Leaking::first_leak; // Example of implicit conversion from enum to int\n",
    "\n",
    "std::cout << receiver << \"\\n\";\n",
    "\n",
    "// Leaking leak = 4 // This case is not possible."
   ]
  },
  {
   "cell_type": "markdown",
   "metadata": {},
   "source": [
    "Because of this leakage problem, called <b>Namespace Pollution</b>, avoid common names for enumerators of <b>plain enum</b>. Try to use names that provide some info about the fact that the enumerator is indeed a member of a specific enum type. Disambiguation is the core idea behind this.\n",
    "\n",
    "As for enum class, it is also possible to specify the <i>underlying integral type</i> of a <b>plain enum</b>; E.g.:"
   ]
  },
  {
   "cell_type": "code",
   "execution_count": 2,
   "metadata": {},
   "outputs": [],
   "source": [
    "// Example of underlyint integral type specification\n",
    "enum underlying_type : char{\n",
    "    \n",
    "    first, second, third\n",
    "};\n",
    "\n",
    "enum forward_declared : int; // Example of forward declaration of plain enum"
   ]
  },
  {
   "cell_type": "markdown",
   "metadata": {},
   "source": [
    "This also make it possible for we to <b>forward declare</b> an enum, just like in the last line above. Without specifying an underlyint type, forward declarations are not allowed.\n",
    "\n",
    "We said above that implicit conversions from int to plain enum is not possible, but this is not the case for <b>explicit</b> conversions. But, be careful, this is only <b>DEFINED</b> when the value of the int that will be used in the conversion to a plain enum is <b>within the range</b> of the enumeration. This range is defined as the smallest bit-field capable of holding the enumerators, i.e., members, values( almost a literal quote from Stroustrup ). This bit-field is calculated from the smallest k s.t. $2^k$( or $-2^k$ ) covers the range of values of the enumerators. If a value is <b>OUTSIDE</b> this range, then we have the famous <b>Undefined Behavior</b>.\n",
    "\n",
    "A last note about conversions: since plain enum has an underlying integral type, there is indeed an <b>implicit conversion</b> from the former to the latter. This also means that"
   ]
  },
  {
   "cell_type": "code",
   "execution_count": 3,
   "metadata": {},
   "outputs": [
    {
     "data": {
      "text/plain": [
       "4"
      ]
     },
     "execution_count": 3,
     "metadata": {},
     "output_type": "execute_result"
    }
   ],
   "source": [
    "enum example{\n",
    "    \n",
    "    just_a_value\n",
    "};\n",
    "\n",
    "sizeof( example )"
   ]
  },
  {
   "cell_type": "markdown",
   "metadata": {},
   "source": [
    "<b>enum example</b> has the <b>sizeof</b> its underlying, else explicitly specified, type. If the type is not explicityly specified, then the type will be of some integral type that can hold the range of values provided, where this type is no larger than <b>sizeof( int )</b>.\n",
    "\n",
    "# Chapter 9 - Statements\n",
    "\n",
    "## Section 9.1 - Introduction\n",
    "\n",
    "Statements do not have values. Instead, they are used to specify the order of execution of the program.\n",
    "\n",
    "## Section 9.2 - Statement Summary\n",
    "\n",
    "There is a list of what are considered statements on page 226.\n",
    "\n",
    "<b>Declarations</b> are statements whenever no initialization or procedure-calls are done. If one of the latter two happens, then we have an expression.\n",
    "\n",
    "Sequences of statements made within curly braces are considered <b>block of code</b> or <b>compound statements</b>.\n",
    "\n",
    "## Section 9.3 - Declarations As Statements\n",
    "\n",
    "As said above, declarations are statements, and the initialization of a declared entity happens when the thread of control reaches the declared entity.\n",
    "\n",
    "Consider defining user-defined types only when a suitable value is available, so as to initialize at construction. This takes less instructions to be performed, leading to better performance. Only consider initialization <i>After</i> declaration when it is not possible to do as previously stated, i.e., when the value for the entity depends on another statement. E.g.: when using"
   ]
  },
  {
   "cell_type": "code",
   "execution_count": null,
   "metadata": {},
   "outputs": [],
   "source": [
    "#include<iostream>\n",
    "\n",
    "int value{};\n",
    "\n",
    "std::cin >> value;\n",
    "\n",
    "std::cout << value << \"\\n\";"
   ]
  },
  {
   "cell_type": "markdown",
   "metadata": {},
   "source": [
    "where <b>int value</b> value depends on the input of <b>std::cin</b>.\n",
    "\n",
    "## Section 9.4 - Selection Statements\n",
    "\n",
    "Related to <b>if( ), if( ) else, switch( )</b> and <b>else if( )</b> statements.\n",
    "\n",
    "Conditions are either expressions or declarations.\n",
    "\n",
    "### Section 9.4.1 - <span style=\"color: blue;\">if</span> statements\n",
    "\n",
    "Evaluates a condition and executes an or many instructions, statements, if the condition come out to be true. If the latter is not true, an <b>else</b> statement, if provided, will execute its own set of instructions.\n",
    "\n",
    "Arguments used in conditions can be <b>implicitly converted</b> to booleans, e.g.: arithmetic expressions and pointer expressions. Yeah, I know, dangerous and shitty, but what can we do about it? Simple: avoid passing arguments that can  be implicitly converted!\n",
    "\n",
    "<b>Note:</b> consider using expressions with types for which <b>explicit</b> constructros were provided. This avoids implicit conversions when dealing with user-defined types, and will possibly save you from some NASTY trouble.\n",
    "\n",
    "Consider the following snippets, they explain how implicit conversions works for certain cases:"
   ]
  },
  {
   "cell_type": "code",
   "execution_count": null,
   "metadata": {},
   "outputs": [],
   "source": [
    "int x{ };\n",
    "\n",
    "if( x ){ // This statemente is equivalent to\n",
    "}\n",
    "\n",
    "if( x != 0 ){ // this statement\n",
    "}\n",
    "\n",
    "int* pointer{ };\n",
    "\n",
    "if( pointer ){ // This statement is equivalent to\n",
    "}\n",
    "\n",
    "if( pointer != nullptr ){ // This statement\n",
    "}\n",
    "\n",
    "enum implicit_conversion{\n",
    "    \n",
    "    condition_one, condition_two\n",
    "};\n",
    "\n",
    "implicit_conversion test;\n",
    "\n",
    "if( test ){ // This statement is valid, because plain enums are implicitly convertible to int\n",
    "}\n",
    "\n",
    "enum class no_conversion{\n",
    "    \n",
    "    no_condition\n",
    "};\n",
    "\n",
    "no_conversion test_2;\n",
    "\n",
    "/*if( test_2 ){ // This statement is not valid, because enum class is not implicitly convertible to int\n",
    "}\n",
    "*/"
   ]
  },
  {
   "cell_type": "markdown",
   "metadata": {},
   "source": [
    "Binary logical operators like && and || only evaluates the second argument if necessary. I.e., they are <b>lazy</b>. An example would be an expression A && B, where A is false. It is not necessary for B to be evaluated at all, since the expression will be false whichever truth value B has.\n",
    "\n",
    "<b>if statements'</b> block of code provides boundaries to entities declared in it. I.e., anything declared in an if-block cannot be used outside this block, not even in the else block associated to the if part. E.g.:"
   ]
  },
  {
   "cell_type": "code",
   "execution_count": null,
   "metadata": {},
   "outputs": [],
   "source": [
    "if( true ){\n",
    "    \n",
    "    int value{ }; // value is bound to if scope. It cannot be accesses outside these brackets\n",
    "    \n",
    "    ++value;\n",
    "}\n",
    "\n",
    "else{\n",
    "    \n",
    "    // do something else\n",
    "    \n",
    "    // value--; // This is not possible, since value was not declared in here\n",
    "}"
   ]
  },
  {
   "cell_type": "markdown",
   "metadata": {},
   "source": [
    "But, for declarations to be possible in if-statements, they <b>must</b> be enclosed in blocks! Else, the declaration would \"leak\" out of the scope.\n",
    "\n",
    "A possible question is: what is the purpose of opening an if-statement only to declare a name?"
   ]
  },
  {
   "cell_type": "code",
   "execution_count": null,
   "metadata": {},
   "outputs": [],
   "source": [
    "if( int condition )\n",
    "    \n",
    "     int newval = condition + 1; // This is not possible\n",
    "\n",
    "// The correct way of doing this is\n",
    "if( int newcondition ){\n",
    "    \n",
    "    int declaration = newcondition;\n",
    "}"
   ]
  },
  {
   "cell_type": "markdown",
   "metadata": {},
   "source": [
    "### Section 9.4.2 - <span style=\"color: blue;\">switch</span> Statements\n",
    "\n",
    "Expressions is <b>case</b> labels must be of integral or enumeration type, and it is not possible to repeat values in the former. E.g.:"
   ]
  },
  {
   "cell_type": "code",
   "execution_count": null,
   "metadata": {},
   "outputs": [],
   "source": [
    "int value{ };\n",
    "\n",
    "switch( value ){\n",
    "        \n",
    "    case 2:\n",
    "        \n",
    "        break;\n",
    "        \n",
    "    case 2: // not allowed. Repeated value.\n",
    "        \n",
    "        break;\n",
    "}"
   ]
  },
  {
   "cell_type": "markdown",
   "metadata": {},
   "source": [
    "<b>switch</b> <b>if</b> statements are somewhat interchangeable. This means that either one can be written as the other. But, keep in mind: in some cases, it is preferred to use one insted of the other. For example, <b>switch</b> statements are more explicit when testing for constants, i.e., the semantic behind switch is more appropriate for those cases. Thus, consider the semantic when choosing between both <b>switch</b> and <b>if</b>. Also, in terms of performance, according to https://stackoverflow.com/questions/97987/advantage-of-switch-over-if-else-statement, <b>switch</b> <i>might</i> be faster than <b>if</b> statements.\n",
    "\n",
    "Cases in <b>switch</b> statements must be explicitly terminated, unless we want to proceed executing cases until the last is reached. Proceeding through different cases is called <b>fall-through</b>. But, if no fall-through is desired, we can get out of <b>switch</b> statements with <b>break</b> or <b>return</b>.\n",
    "\n",
    "Do not use <b>default</b> cases when handling <b>enumeration</b>! Leave the default out, so as to be able to catch enumerators not used in the statement, i.e., that were left out of the latter.\n",
    "\n",
    "#### 9.4.2.1 - Declarations In Cases\n",
    "\n",
    "It is possible to declare in cases, but every declaration <b>MUST</b> be initialized, and the cases where both declaration and initialization are <b>MUST</b> be executed. Not doing so will invoke a compiler error. An exception to this is the declaration of <b>int</b> entities. Since they need not be initialized, the declaration can happen without the latter. BUT, the USE cannot happen withou an initialization, because a compiler error will be happen. Anyways, AVOID handling uninitialized variables.\n",
    "\n",
    "Also, it seems that, unless a block of code restricts a case, anything declared in it are in the scope of the switch statements, instead of a local scope of the case itself."
   ]
  },
  {
   "cell_type": "code",
   "execution_count": null,
   "metadata": {},
   "outputs": [],
   "source": [
    "#include<string>\n",
    "#include<iostream>\n",
    "\n",
    "// The switch statement in wrong( int test ) will not run. This is so because case 0 might happen\n",
    "// to be bypassed. If the code goes straight to case 1, shit is going down\n",
    "/*void wrong( int test ){\n",
    "    \n",
    "    switch( test ){\n",
    "            \n",
    "        case 0:\n",
    "            \n",
    "            int x;\n",
    "            int y = 3;\n",
    "            \n",
    "            std::string s;\n",
    "            \n",
    "        case 1:\n",
    "            \n",
    "            ++x;\n",
    "            ++y;\n",
    "            \n",
    "            s = \"nasty\";\n",
    "    }\n",
    "}*/\n",
    "\n",
    "// This, however, will run. This is so because x,y and text are strictly case scope bounded, i.e.,\n",
    "// their declaration is confined to the block of code, or scope, in which they were declared\n",
    "void right( int value ){\n",
    "    \n",
    "    switch( value ){\n",
    "            \n",
    "        case 0:{\n",
    "            \n",
    "            int x = 0;\n",
    "            \n",
    "            ++x;\n",
    "            \n",
    "            std::cout << x;\n",
    "            }\n",
    "            \n",
    "        case 1:{\n",
    "            \n",
    "            int y = 3;\n",
    "            \n",
    "            ++y;\n",
    "        }\n",
    "            \n",
    "        case 2:{\n",
    "            \n",
    "            std::string text{ };\n",
    "            \n",
    "            text = \"aight\";\n",
    "        }\n",
    "    }\n",
    "}\n",
    "\n",
    "right( 0 );"
   ]
  },
  {
   "cell_type": "markdown",
   "metadata": {},
   "source": [
    "### 9.4.3 - Declarations In Conditions\n",
    "\n",
    "We can declare <b>INSIDE</b> conditions. More precisely, we can do the following:"
   ]
  },
  {
   "cell_type": "code",
   "execution_count": null,
   "metadata": {},
   "outputs": [],
   "source": [
    "if( double example = prim( true ) ){\n",
    "    \n",
    "    break;\n",
    "}"
   ]
  },
  {
   "cell_type": "markdown",
   "metadata": {},
   "source": [
    "The declaration happens at condition opening. Its value is provided and tested within the condition, and its scope extends to the end of the block corresponding to the if-statement, i.e., it cannot be accessed outside the latter. But, notice one thing, if there was an <b>else</b> statement here, <b>example</b> would have been accessible in the latter. Only one entity can be declared and initialized in a condition.\n",
    "\n",
    "Another advantage of this kind of declaration is code compactness.\n",
    "\n",
    "## 9.5 Iterations Statements\n",
    "\n",
    "### 9.5.1 - Range-<span style=\"color: blue;\">for</span> Statements\n",
    "\n",
    "Only works on sequences of elements, i.e., expressions for which <b>.begin() or begin( sequence )</b> and <b>.end() or end( sequence )</b> are provided, because those functions provide us with the iterators of the sequences.\n",
    "\n",
    "The compiler, in these loops, first tries to access <b>.begin()</b> or <b>.end()</b> member functions. If none of those were provided or are usable, then an error is thrown. Else, the compiler checks for <b>begin( seq )</b> or <b>end( seq )</b> member functions in the scope where the loop is present. If none are found or are usable, an error is thrown.\n",
    "\n",
    "For built-in arrays, the compiler uses the initial position and the size, i.e., number of elements + 1 or one after-the-last, as <b>begin()</b> and <b>end()</b>, respectively, in range-for loops. Using the <iterator> header, we can access <b>begin( seq )</b> and <b>end( seq )</b> for built-in arrays and std containers. For custom-designed sequences, we can define our own <b>begin()</b> and <b>end()</b> methods, following, of course, the behavior of the same name, similar std methods. \n",
    "    \n",
    "In range-for loops, the variables being iterated are handled as dereferenced pointers in standard for-loops. I.e.,"
   ]
  },
  {
   "cell_type": "code",
   "execution_count": null,
   "metadata": {},
   "outputs": [],
   "source": [
    "std::vector<int> elements{};\n",
    "\n",
    "// This\n",
    "for( int value : elements ){\n",
    "    \n",
    "    // manipulate value\n",
    "}\n",
    "\n",
    "// Is the same as this\n",
    "for( auto val = begin( elements ); val != end( elements ); ++val ){\n",
    "    \n",
    "    // do something\n",
    "}"
   ]
  },
  {
   "cell_type": "markdown",
   "metadata": {},
   "source": [
    "To modify an element of a range-for loop, i.e., the variables in a sequence, one must handle those as references, as in the code below:"
   ]
  },
  {
   "cell_type": "code",
   "execution_count": null,
   "metadata": {},
   "outputs": [],
   "source": [
    "void example( std::vector<int>& elements ){\n",
    "    \n",
    "    for( int& values : elements ){\n",
    "        \n",
    "        // do something with values\n",
    "    }\n",
    "}"
   ]
  },
  {
   "cell_type": "markdown",
   "metadata": {},
   "source": [
    "Handling as references also make it possible to avoid expensive copies of large elements.\n",
    "\n",
    "### 9.5.2 - <span style=\"color: blue;\">for</span> Statements\n",
    "\n",
    "If it not the case that the usage of a for-loop follows the standard behavior, as cited by the author, \n",
    "\n",
    "    introduce a loop variable\n",
    "    test the condition\n",
    "    update loop variable,\n",
    "\n",
    "then, consider using a <b>while</b>-statement.\n",
    "\n",
    "We also have a different form of for-statement, as in the code below."
   ]
  },
  {
   "cell_type": "code",
   "execution_count": null,
   "metadata": {},
   "outputs": [],
   "source": [
    "#include<string>\n",
    "#include<iostream>\n",
    "\n",
    "std::vector<std::string> text{ };\n",
    "\n",
    "for( std::string words; std::cin >> words; ){\n",
    "    \n",
    "    text.push_back( words );\n",
    "    \n",
    "    if( words == \"stop\" ){ // Do not focus on this if-statement. This is here only so as\n",
    "                           // to make it possible for the program to stop\n",
    "        break;\n",
    "    }\n",
    "}\n",
    "\n",
    "// The example end is above. From here onwards, we are just helping with the visualization\n",
    "\n",
    "for( std::vector<std::string>::size_type i = 0; i < text.size( ); ++i ){\n",
    "    \n",
    "    std::cout << text[ i ] << \"\\t\";\n",
    "}"
   ]
  },
  {
   "cell_type": "markdown",
   "metadata": {},
   "source": [
    "In the code above, <b>std::cin >> words</b> both reads values into <b>words</b> and tests for termination, i.e., behaves as a loop-terminating condition checking. The scope of <b>words</b> is restricted to the body of the for-statement, and it is considered an <b>implicit</b> loop variable. While in <b>while</b>-statements condition checking we could also read values, the variables into which we are reading values must be declared <b>outside</b> the <b>while</b>-statement. This means that its scope extends to the end of the block of code where both it and the <b>while</b>-statement are located.\n",
    "\n",
    "Now, some weirdnesses of C++. We can do the following:"
   ]
  },
  {
   "cell_type": "code",
   "execution_count": null,
   "metadata": {},
   "outputs": [],
   "source": [
    "// an unending loop\n",
    "for( ; ; ){    \n",
    "}\n",
    "\n",
    "// which is equivalent to\n",
    "while( true ){\n",
    "}"
   ]
  },
  {
   "cell_type": "markdown",
   "metadata": {},
   "source": [
    "Yep, that is it. I do not know what is the purpose of this, but, there it is!\n",
    "\n",
    "Before we end this section: use <b>auto</b> when the type of the loop variable is not evident.\n",
    "\n",
    "### 9.5.3 - <span style=\"color: blue;\">while</span> Statements\n",
    "\n",
    "Stroustrup recommends <b>while</b> over <b>for</b>-statements when no obvious loop variable is available or when the updates comes naturally in the loop body.\n",
    "\n",
    "### 9.5.4 - <span style=\"color: blue;\">do</span> Statements\n",
    "\n",
    "<b>Avoid those.</b>\n",
    "\n",
    "Condition comes after the body of the <b>do</b>-statement. This means that the body of the latter is executed at least <b>once</b> before the condition is checked.\n",
    "\n",
    "This is asking for trouble.\n",
    "\n",
    "### 9.5.5 - Loop Exit\n",
    "\n",
    "Forms of forcing ourselves out of a loop where the terminating condition is either ommited or not satisfied.\n",
    "\n",
    "<b>break</b> breaks away from the nearest switch or iteration-statement. It forces the program out of a loop as soon as it is called. Notice that a break statement, in nested loops or switch statements, a <b>break</b> will leave only the closest, innermost, loop or switch statement in which it is. E.g."
   ]
  },
  {
   "cell_type": "code",
   "execution_count": null,
   "metadata": {},
   "outputs": [],
   "source": [
    "for( int beginning = 0; beginning < 10; ++beginning ){\n",
    "    \n",
    "    for( int middle = 0; middle < 10; ++middle ){\n",
    "        \n",
    "        for( int end = 0; end < 10; ++end ){\n",
    "            \n",
    "            break; // This will make the program leave this for-loop and go back to \n",
    "                   //  the above for, where int middle is\n",
    "        }\n",
    "    }\n",
    "}"
   ]
  },
  {
   "cell_type": "markdown",
   "metadata": {},
   "source": [
    "Potentially harmful, not because it is bad by itself, but because one can be led to poorly design its loops and \"break\" away from them before unwanted behavior, which might not have happened if the loop were correct, starts. \n",
    "\n",
    "<b>OPEN QUESTION:</b> Stroustrup says \"Unless it warps the logic of a loop( e.g., requires the introduction of an extra variable ), it is usually better to have the complete exit condition as the condition of a <b>while</b>-statement or a <b>for</b>-statement.\" I wonder, how could a complete exit condition as the condition of a loop-statement( that condition that is located in the parenthesis following the loop keyword ) warp the logic of a loop? May it be that using a complete exit condition as the condition of a loop forces us to introduce a new variable in the loop body from which the complete condition takes value? Maybe it is only \"complete\" with the introduction of new variables? I do not know exactly what Stroustrup means here.\n",
    "\n",
    "<b>continue</b> makes the loop skip, from its call point, to the next iteration. This means that every instruction that comes after the call to <b>continue</b> will be ignored. Sometimes it is semantically correct and informative, even if apparently \"useless\" in a loop body. Use it carefully!\n",
    "\n",
    "## 9.6 - <span style=\"color: blue;\">goto</span> Statements\n",
    "\n",
    "The <b>goto</b> statement has the following form:\n",
    "\n",
    "    <b>goto</b> identifier;\n",
    "    identifier : statement;\n",
    "    \n",
    "Its scope is the function where it is in. Yep, the WHOLE function. But there are some restrictions. Be them:\n",
    " \n",
    "     1. if there is an initializer after the goto, it cannot jump past it\n",
    "     2. it cannot be used go to into an exception\n",
    "     \n",
    "<b>goto</b>, according to Stroustrup, can \"sensibly\", read reasonably, be used to break out from nested loops or switch statements.\n",
    "\n",
    "## 9.7 - Comments And Indentation\n",
    "\n",
    "According to Stroustrup, if something can semantically be stated in the language itself( think about self-documented code ), then it should, and should not be mentioned in a comment.\n",
    "\n",
    "Good comments should inform what the code is supposed to do( almost literal transcription of the text ). Higher levels of abstraction are preferred when doing as aforementioned.\n",
    "\n",
    "Stroustrup expresses his preferences for comments in page 239 of this book. Taken from the text( Stroustrup, 2013 ), some of them are:\n",
    "\n",
    "    • A comment for each source file stating what the declarations in it have in common, refer-\n",
    "    ences to manuals, the name of the programmer, general hints for maintenance, etc.\n",
    "    • A comment for each class, template, and namespace\n",
    "    • A comment for each nontrivial function stating its purpose, the algorithm used (unless it is\n",
    "    obvious), and maybe something about the assumptions it makes about its environment\n",
    "    • A comment for each global and namespace variable and constant\n",
    "    • A few comments where the code is nonobvious and/or nonportable\n",
    "\n",
    "<b>/* */</b> do not nest, i.e., we cannot do"
   ]
  },
  {
   "cell_type": "code",
   "execution_count": null,
   "metadata": {},
   "outputs": [],
   "source": [
    "/*\n",
    "\n",
    "    /*\n",
    "    */ // This will close commenting\n",
    "\n",
    "*/ // And this will make no sense at all, and will return an error message from the linter"
   ]
  },
  {
   "cell_type": "markdown",
   "metadata": {},
   "source": [
    "# Chapter 10 - Expressions\n",
    "\n",
    "This chapter is less theoretical and very code oriented. So, it might be better to just read it, there are few things here to actually take notes about.\n",
    "\n",
    "## 10.1 - Introduction\n",
    "\n",
    "## 10.2 - A Desk Calculator\n",
    "\n",
    "### 10.2.1 - The Parser\n",
    "\n",
    "C++ provides assignment operators for binary operators( almost exactly taken from the text ), i.e., \n",
    "\n",
    "    + - * / % & | ^ << >>\n",
    "    \n",
    "can be combined with <b>=</b>, resulting in\n",
    "\n",
    "    += -= #= /= %= &= |= ^= <<= >>=\n",
    "    \n",
    "where **&**, <b>|</b> and <b>^</b> are the bitwise logical operators and, or, and XOR, and **<<** and **>>** are left and right shift operators.\n",
    "\n",
    "### 10.2.2 - Input\n",
    "\n",
    "### 10.2.3 - Low-Level Input\n",
    "\n",
    "Things like <b>isspace()</b>, <b>isdigit()</b>, <b>isalpha()</b>, etc.\n",
    "\n",
    "### 10.2.4 - Error Handling\n",
    "\n",
    "### 10.2.5 - The Driver\n",
    "\n",
    "### 10.2.6 - Headers\n",
    "\n",
    "### 10.2.7 - Command- Line Arguments\n",
    "\n",
    "Remember those two arguments passed to <b>main()</b> that we never knew the purpose of or what they did? Yes? Well, the first argument, <b>int argc</b>, represents the number of arguments that will be passed to <b>main()</b>, and <b>char* argv[ ]</b> represents an array of arguments passed to <b>main()</b>. The type of the elements in this array of arguments is\n",
    "\n",
    "<b>char* [ argc+ 1 ]</b>\n",
    "\n",
    "i.e., a pointer to an array of chars, with size <b>argc + 1</b>, and with <b>argv[ 0 ]</b> equal to the name of the program, i.e., <b>argc</b> at least 1. Also, <b>argv[ argc ] == 0</b>, i.e., zero-terminated. Too se more about that, refer to https://stackoverflow.com/questions/4207134/what-is-the-proper-declaration-of-main\n",
    "\n",
    "### 10.2.8 - A Note On Style\n",
    "\n",
    "## 10.3 - Operator Summary\n",
    "\n",
    "Some quick things to have on mind before proceeding:\n",
    "\n",
    "• <i>name</i> are identifiers, operator's names, or the name of templates specializations\n",
    "• <i>Lvalue</i> are expressions representing modifiable objects\n",
    "• <i>Lambda-declarator</i> are lists of parameters, possibly followed by <b>mutable</b>, <b>noexcept</b> and a <i>return trailing type</i>\n",
    "• <i>Capture-list</i> is a list that allows scope handling/extending of variables to lambdas\n",
    "• <i>stmt-list</i> is a list of statements that goes into a lambda body\n",
    "\n",
    "Aside from that, there are a LOT of tables summarizing operators in this section, going from p.255 to p.257. Use as reference."
   ]
  },
  {
   "cell_type": "code",
   "execution_count": null,
   "metadata": {},
   "outputs": [],
   "source": []
  }
 ],
 "metadata": {
  "kernelspec": {
   "display_name": "C++17",
   "language": "C++17",
   "name": "xcpp17"
  },
  "language_info": {
   "codemirror_mode": "text/x-c++src",
   "file_extension": ".cpp",
   "mimetype": "text/x-c++src",
   "name": "c++",
   "version": "-std=c++17"
  }
 },
 "nbformat": 4,
 "nbformat_minor": 4
}
