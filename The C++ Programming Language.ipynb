{
 "cells": [
  {
   "cell_type": "markdown",
   "metadata": {},
   "source": [
    "### Section 8.4.2 - Plain Enums\n",
    "\n",
    "Enumerators, i.e., members of <b>plain enum</b> have their scope \"leaked\" to the same scope as of their enum. They are also implicitly converted to int, i.e., their value can be used in int's, even though the converse is not possible. E.g.:"
   ]
  },
  {
   "cell_type": "code",
   "execution_count": 1,
   "metadata": {},
   "outputs": [
    {
     "name": "stdout",
     "output_type": "stream",
     "text": [
      "1\n",
      "0\n"
     ]
    },
    {
     "data": {
      "text/plain": [
       "@0x7f523de24b60"
      ]
     },
     "execution_count": 1,
     "metadata": {},
     "output_type": "execute_result"
    }
   ],
   "source": [
    "#include<iostream>\n",
    "\n",
    "enum Leaking{ \n",
    "    \n",
    "    first_leak, second_leak\n",
    "};\n",
    "\n",
    "int get_value = second_leak; // example of scope leak\n",
    "\n",
    "std::cout << get_value << \"\\n\";\n",
    "\n",
    "int receiver = Leaking::first_leak; // Example of implicit conversion from enum to int\n",
    "\n",
    "std::cout << receiver << \"\\n\";\n",
    "\n",
    "// Leaking leak = 4 // This case is not possible."
   ]
  },
  {
   "cell_type": "markdown",
   "metadata": {},
   "source": [
    "Because of this leakage problem, called <b>Namespace Pollution</b>, avoid common names for enumerators of <b>plain enum</b>. Try to use names that provide some info about the fact that the enumerator is indeed a member of a specific enum type. Disambiguation is the core idea behind this.\n",
    "\n",
    "As for enum class, it is also possible to specify the <i>underlying integral type</i> of a <b>plain enum</b>; E.g.:"
   ]
  },
  {
   "cell_type": "code",
   "execution_count": 2,
   "metadata": {},
   "outputs": [],
   "source": [
    "// Example of underlyint integral type specification\n",
    "enum underlying_type : char{\n",
    "    \n",
    "    first, second, third\n",
    "};\n",
    "\n",
    "enum forward_declared : int; // Example of forward declaration of plain enum"
   ]
  },
  {
   "cell_type": "markdown",
   "metadata": {},
   "source": [
    "This also make it possible for we to <b>forward declare</b> an enum, just like in the last line above. Without specifying an underlyint type, forward declarations are not allowed.\n",
    "\n",
    "We said above that implicit conversions from int to plain enum is not possible, but this is not the case for <b>explicit</b> conversions. But, be careful, this is only <b>DEFINED</b> when the value of the int that will be used in the conversion to a plain enum is <b>within the range</b> of the enumeration. This range is defined as the smallest bit-field capable of holding the enumerators, i.e., members, values( almost a literal quote from Stroustrup ). This bit-field is calculated from the smallest k s.t. $2^k$( or $-2^k$ ) covers the range of values of the enumerators. If a value is <b>OUTSIDE</b> this range, then we have the famous <b>Undefined Behavior</b>.\n",
    "\n",
    "A last note about conversions: since plain enum has an underlying integral type, there is indeed an <b>implicit conversion</b> from the former to the latter. This also means that"
   ]
  },
  {
   "cell_type": "code",
   "execution_count": 3,
   "metadata": {},
   "outputs": [
    {
     "data": {
      "text/plain": [
       "4"
      ]
     },
     "execution_count": 3,
     "metadata": {},
     "output_type": "execute_result"
    }
   ],
   "source": [
    "enum example{\n",
    "    \n",
    "    just_a_value\n",
    "};\n",
    "\n",
    "sizeof( example )"
   ]
  },
  {
   "cell_type": "markdown",
   "metadata": {},
   "source": [
    "<b>enum example</b> has the <b>sizeof</b> its underlying, else explicitly specified, type. If the type is not explicityly specified, then the type will be of some integral type that can hold the range of values provided, where this type is no larger than <b>sizeof( int )</b>.\n",
    "\n",
    "# Chapter 9 - Statements\n",
    "\n",
    "## Section 9.1 - Introduction\n",
    "\n",
    "Statements do not have values. Instead, they are used to specify the order of execution of the program.\n",
    "\n",
    "## Section 9.2 - Statement Summary\n",
    "\n",
    "There is a list of what are considered statements on page 226.\n",
    "\n",
    "<b>Declarations</b> are statements whenever no initialization or procedure-calls are done. If one of the latter two happens, then we have an expression.\n",
    "\n",
    "Sequences of statements made within curly braces are considered <b>block of code</b> or <b>compound statements</b>.\n",
    "\n",
    "## Section 9.3 - Declarations As Statements\n",
    "\n",
    "As said above, declarations are statements, and the initialization of a declared entity happens when the thread of control reaches the declared entity.\n",
    "\n",
    "Consider defining user-defined types only when a suitable value is available, so as to initialize at construction. This takes less instructions to be performed, leading to better performance. Only consider initialization <i>After</i> declaration when it is not possible to do as previously stated, i.e., when the value for the entity depends on another statement. E.g.: when using"
   ]
  },
  {
   "cell_type": "code",
   "execution_count": 1,
   "metadata": {},
   "outputs": [
    {
     "name": "stdout",
     "output_type": "stream",
     "text": [
      "45\n",
      "45\n"
     ]
    }
   ],
   "source": [
    "#include<iostream>\n",
    "\n",
    "int value{};\n",
    "\n",
    "std::cin >> value;\n",
    "\n",
    "std::cout << value << \"\\n\";"
   ]
  },
  {
   "cell_type": "markdown",
   "metadata": {},
   "source": [
    "where <b>int value</b> value depends on the input of <b>std::cin</b>.\n",
    "\n",
    "## Section 9.4 - Selection Statements\n",
    "\n",
    "Related to <b>if( ), if( ) else, switch( )</b> and <b>else if( )</b> statements.\n",
    "\n",
    "Conditions are either expressions or declarations.\n",
    "\n",
    "### Section 9.4.1 - <span style=\"color: blue;\">if</span> statements\n",
    "\n",
    "Evaluates a condition and executes an or many instructions, statements, if the condition come out to be true. If the latter is not true, an <b>else</b> statement, if provided, will execute its own set of instructions.\n",
    "\n",
    "Arguments used in conditions can be <b>implicitly converted</b> to booleans, e.g.: arithmetic expressions and pointer expressions. Yeah, I know, dangerous and shitty, but what can we do about it? Simple: avoid passing arguments that can  be implicitly converted!\n",
    "\n",
    "<b>Note:</b> consider using expressions with types for which <b>explicit</b> constructros were provided. This avoids implicit conversions when dealing with user-defined types, and will possibly save you from some NASTY trouble.\n",
    "\n",
    "Consider the following snippets, they explain how implicit conversions works for certain cases:"
   ]
  },
  {
   "cell_type": "code",
   "execution_count": 2,
   "metadata": {},
   "outputs": [],
   "source": [
    "int x{ };\n",
    "\n",
    "if( x ){ // This statemente is equivalent to\n",
    "}\n",
    "\n",
    "if( x != 0 ){ // this statement\n",
    "}\n",
    "\n",
    "int* pointer{ };\n",
    "\n",
    "if( pointer ){ // This statement is equivalent to\n",
    "}\n",
    "\n",
    "if( pointer != nullptr ){ // This statement\n",
    "}\n",
    "\n",
    "enum implicit_conversion{\n",
    "    \n",
    "    condition_one, condition_two\n",
    "};\n",
    "\n",
    "implicit_conversion test;\n",
    "\n",
    "if( test ){ // This statement is valid, because plain enums are implicitly convertible to int\n",
    "}\n",
    "\n",
    "enum class no_conversion{\n",
    "    \n",
    "    no_condition\n",
    "};\n",
    "\n",
    "no_conversion test_2;\n",
    "\n",
    "/*if( test_2 ){ // This statement is not valid, because enum class is not implicitly convertible to int\n",
    "}\n",
    "*/"
   ]
  },
  {
   "cell_type": "markdown",
   "metadata": {},
   "source": [
    "Binary logical operators like && and || only evaluates the second argument if necessary. I.e., they are <b>lazy</b>. An example would be an expression A && B, where A is false. It is not necessary for B to be evaluated at all, since the expression will be false whichever truth value B has.\n",
    "\n",
    "<b>if statements'</b> block of code provides boundaries to entities declared in it. I.e., anything declared in an if-block cannot be used outside this block, not even in the else block associated to the if part. E.g.:"
   ]
  },
  {
   "cell_type": "code",
   "execution_count": null,
   "metadata": {},
   "outputs": [],
   "source": [
    "if( true ){\n",
    "    \n",
    "    int value{ }; // value is bound to if scope. It cannot be accesses outside these brackets\n",
    "    \n",
    "    ++value;\n",
    "}\n",
    "\n",
    "else{\n",
    "    \n",
    "    // do something else\n",
    "    \n",
    "    // value--; // This is not possible, since value was not declared in here\n",
    "}"
   ]
  },
  {
   "cell_type": "markdown",
   "metadata": {},
   "source": [
    "But, for declarations to be possible in if-statements, they <b>must</b> be enclosed in blocks! Else, the declaration would \"leak\" out of the scope.\n",
    "\n",
    "A possible question is: what is the purpose of opening an if-statement only to declare a name?"
   ]
  },
  {
   "cell_type": "code",
   "execution_count": null,
   "metadata": {},
   "outputs": [],
   "source": [
    "if( int condition )\n",
    "    \n",
    "     int newval = condition + 1; // This is not possible\n",
    "\n",
    "// The correct way of doing this is\n",
    "if( int newcondition ){\n",
    "    \n",
    "    int declaration = newcondition;\n",
    "}"
   ]
  },
  {
   "cell_type": "markdown",
   "metadata": {},
   "source": [
    "### Section 9.4.2 - <span style=\"color: blue;\">switch</span> Statements\n",
    "\n",
    "Expressions is <b>case</b> labels must be of integral or enumeration type, and it is not possible to repeat values in the former. E.g.:"
   ]
  },
  {
   "cell_type": "code",
   "execution_count": null,
   "metadata": {},
   "outputs": [],
   "source": [
    "int value{ };\n",
    "\n",
    "switch( value ){\n",
    "        \n",
    "    case 2:\n",
    "        \n",
    "        break;\n",
    "        \n",
    "    case 2: // not allowed. Repeated value.\n",
    "        \n",
    "        break;\n",
    "}"
   ]
  },
  {
   "cell_type": "markdown",
   "metadata": {},
   "source": [
    "<b>switch</b> <b>if</b> statements are somewhat interchangeable. This means that either one can be written as the other. But, keep in mind: in some cases, it is preferred to use one insted of the other. For example, <b>switch</b> statements are more explicit when testing for constants, i.e., the semantic behind switch is more appropriate for those cases. Thus, consider the semantic when choosing between both <b>switch</b> and <b>if</b>. Also, in terms of performance, according to https://stackoverflow.com/questions/97987/advantage-of-switch-over-if-else-statement, <b>switch</b> <i>might</i> be faster than <b>if</b> statements.\n",
    "\n",
    "Cases in <b>switch</b> statements must be explicitly terminated, unless we want to proceed executing cases until the last is reached. Proceeding through different cases is called <b>fall-through</b>. But, if no fall-through is desired, we can get out of <b>switch</b> statements with <b>break</b> or <b>return</b>.\n",
    "\n",
    "Do not use <b>default</b> cases when handling <b>enumeration</b>! Leave the default out, so as to be able to catch enumerators not used in the statement, i.e., that were left out of the latter.\n",
    "\n",
    "#### 9.4.2.1 - Declarations In Cases\n",
    "\n",
    "It is possible to declare in cases, but every declaration <b>MUST</b> be initialized, and the cases where both declaration and initialization are <b>MUST</b> be executed. Not doing so will invoke a compiler error. An exception to this is the declaration of <b>int</b> entities. Since they need not be initialized, the declaration can happen without the latter. BUT, the USE cannot happen withou an initialization, because a compiler error will be happen. Anyways, AVOID handling uninitialized variables.\n",
    "\n",
    "Also, it seems that, unless a block of code restricts a case, anything declared in it are in the scope of the switch statements, instead of a local scope of the case itself."
   ]
  },
  {
   "cell_type": "code",
   "execution_count": 1,
   "metadata": {},
   "outputs": [
    {
     "name": "stdout",
     "output_type": "stream",
     "text": [
      "1"
     ]
    }
   ],
   "source": [
    "#include<string>\n",
    "#include<iostream>\n",
    "\n",
    "// The switch statement in wrong( int test ) will not run. This is so because case 0 might happen\n",
    "// to be bypassed. If the code goes straight to case 1, shit is going down\n",
    "/*void wrong( int test ){\n",
    "    \n",
    "    switch( test ){\n",
    "            \n",
    "        case 0:\n",
    "            \n",
    "            int x;\n",
    "            int y = 3;\n",
    "            \n",
    "            std::string s;\n",
    "            \n",
    "        case 1:\n",
    "            \n",
    "            ++x;\n",
    "            ++y;\n",
    "            \n",
    "            s = \"nasty\";\n",
    "    }\n",
    "}*/\n",
    "\n",
    "// This, however, will run. This is so because x,y and text are strictly case-dependent, i.e.,\n",
    "// their declaration is confined to the block of code, or scope, in which they were declared\n",
    "void right( int value ){\n",
    "    \n",
    "    switch( value ){\n",
    "            \n",
    "        case 0:{\n",
    "            \n",
    "            int x = 0;\n",
    "            \n",
    "            ++x;\n",
    "            \n",
    "            std::cout << x;\n",
    "            }\n",
    "            \n",
    "        case 1:{\n",
    "            \n",
    "            int y = 3;\n",
    "            \n",
    "            ++y;\n",
    "        }\n",
    "            \n",
    "        case 2:{\n",
    "            \n",
    "            std::string text{ };\n",
    "            \n",
    "            text = \"aight\";\n",
    "        }\n",
    "    }\n",
    "}\n",
    "\n",
    "right( 0 );"
   ]
  },
  {
   "cell_type": "markdown",
   "metadata": {},
   "source": [
    "### 9.4.3 - Declarations In Conditions\n",
    "\n",
    "We can declare <b>INSIDE</b> conditions. More precisely, we can do the following:"
   ]
  },
  {
   "cell_type": "code",
   "execution_count": null,
   "metadata": {},
   "outputs": [],
   "source": [
    "if( double example = prim( true ) ){\n",
    "    \n",
    "    break;\n",
    "}"
   ]
  },
  {
   "cell_type": "markdown",
   "metadata": {},
   "source": [
    "The declaration happens at condition opening. Its value is provided and tested within the condition, and its scope extends to the end of the block corresponding to the if-statement, i.e., it cannot be accessed outside the latter."
   ]
  }
 ],
 "metadata": {
  "kernelspec": {
   "display_name": "C++17",
   "language": "C++17",
   "name": "xcpp17"
  },
  "language_info": {
   "codemirror_mode": "text/x-c++src",
   "file_extension": ".cpp",
   "mimetype": "text/x-c++src",
   "name": "c++",
   "version": "-std=c++17"
  }
 },
 "nbformat": 4,
 "nbformat_minor": 4
}
