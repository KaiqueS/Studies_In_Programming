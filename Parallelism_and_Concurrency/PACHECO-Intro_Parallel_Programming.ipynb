{
 "cells": [
  {
   "cell_type": "code",
   "execution_count": null,
   "metadata": {},
   "outputs": [],
   "source": [
    "### All notes here are taken from Pacheco's(2022) Introduction to Parallel Programming\n",
    "\n",
    "# Chapter 2\n",
    "\n"
   ]
  }
 ],
 "metadata": {
  "language_info": {
   "name": "python"
  }
 },
 "nbformat": 4,
 "nbformat_minor": 2
}
