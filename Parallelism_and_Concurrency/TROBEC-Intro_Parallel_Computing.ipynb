{
 "cells": [
  {
   "cell_type": "markdown",
   "metadata": {},
   "source": [
    "### Note: notes taken from Trobec et al. - Introduction To Parallel Computing(2018)\n",
    "\n",
    "# Chapter 2 - Overview of Parallel Systems\n",
    "\n",
    "## Concepts\n",
    "\n",
    "[**Sequential Algorithm:**](#concepts) performs one operation in each step.\n",
    "\n",
    "[**Parallel Algorithm:**](#concepts) performs multiple operations in a single step. The operations are performed by **processing units**(**PU**'s).\n",
    "\n",
    "[**Parallel Execution Time(Parallel Runtime):**](#concepts)\n",
    "\n",
    "[**Speedup:**](#concepts) how many times is the parallel runtime faster than its sequential counterpart.\n",
    "\n",
    "[**Efficiency:**](#concepts) **average** contribution of each PU $p$ to the speedup.\n",
    "\n",
    "## Mathematics\n",
    "\n",
    "[**Sequential Runtime:**](#mathematics) Let the **sequential runtime** be: $T_{seq}$.\n",
    "\n",
    "Let $C(p):=$ a parallel computer **C** containing **p** processing units.\n",
    "\n",
    "[**Parallel Runtime:**](#mathematics) Denote the **parallel runtime** be as: $T_{par}$.\n",
    "\n",
    "[**Speedup:**](#mathematics)\n",
    "\n",
    "$$ S := \\frac{T_{sec}}{T_{par}} $$\n",
    "\n",
    "[**Efficiency:**](#mathematics)\n",
    "\n",
    "$$ E := \\frac{S}{p} $$\n",
    "\n",
    "Notice: "
   ]
  }
 ],
 "metadata": {
  "language_info": {
   "name": "python"
  },
  "orig_nbformat": 4
 },
 "nbformat": 4,
 "nbformat_minor": 2
}
