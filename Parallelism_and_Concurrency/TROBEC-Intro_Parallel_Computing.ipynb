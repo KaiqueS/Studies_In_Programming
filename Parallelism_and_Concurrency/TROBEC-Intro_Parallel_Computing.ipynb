{
 "cells": [
  {
   "cell_type": "markdown",
   "metadata": {},
   "source": [
    "### Note: notes taken from Trobec et al. - Introduction To Parallel Computing(2018)\n",
    "\n",
    "# Chapter 2 - Overview of Parallel Systems\n",
    "\n"
   ]
  }
 ],
 "metadata": {
  "language_info": {
   "name": "python"
  },
  "orig_nbformat": 4
 },
 "nbformat": 4,
 "nbformat_minor": 2
}
