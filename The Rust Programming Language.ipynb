{
 "cells": [
  {
   "cell_type": "markdown",
   "metadata": {},
   "source": [
    "# The Rust Programming Language\n",
    "\n",
    "## Chapter 1 - Gertting Started\n",
    "\n",
    "<b>Note:</b> if you are trying to set up VS Code for Rust, things are quite messy to begin with. Use the extension Rust-Analyzes and Better-Toml. Set up a Cargo.toml file with at least the following code\n",
    "\n",
    "[package]\n",
    "\n",
    "name = \"name_of_file.exe\"\n",
    "\n",
    "version = \"0.0.1\"\n",
    "\n",
    "authors = [ \"Your_name\" ]\n",
    "\n",
    "Then, proceed to create a src folder, and put your main.rs file in it. Run <b>cargo build</b>, and wait for it to finish buildind. After that, run <b>cargo run</b> and the file should be executed.\n",
    "\n",
    "To run it normally through VS Code, select <b>start without debugging</b>, and select a C++ compiler to generate a json file. Add the path to your executable at the appropriate field, save it, and run the file normally through VS code."
   ]
  },
  {
   "cell_type": "code",
   "execution_count": 4,
   "metadata": {},
   "outputs": [
    {
     "name": "stdout",
     "output_type": "stream",
     "text": [
      "Hello, World!\n"
     ]
    }
   ],
   "source": [
    "fn main( ){\n",
    "    \n",
    "    println!( \"Hello, World!\" ); // because of the !, println!() calls a macro\n",
    "                                 // Also, notice the ; to indicate end of line\n",
    "}\n",
    "\n",
    "main( );"
   ]
  },
  {
   "cell_type": "markdown",
   "metadata": {},
   "source": [
    "As in C++, <b>main()</b> function in Rust is the first code that in any executable program( almost literal transcription from the book ). \n",
    "\n",
    "The syntax for function declaration in Rust goes as follows:"
   ]
  },
  {
   "cell_type": "code",
   "execution_count": null,
   "metadata": {},
   "outputs": [],
   "source": [
    "fn function_name {\n",
    "    \n",
    "    // do something\n",
    "}"
   ]
  },
  {
   "cell_type": "markdown",
   "metadata": {},
   "source": [
    "I.e., we have the keyword <b>fn</b>, the function name and the enclosing brackets, which determines the function body and opens an inner scope.\n",
    "\n",
    "Code, in Rust, is indented with four spaces, not tabs! And lines end with <b>;</b>."
   ]
  }
 ],
 "metadata": {
  "kernelspec": {
   "display_name": "Rust",
   "language": "rust",
   "name": "rust"
  },
  "language_info": {
   "codemirror_mode": "rust",
   "file_extension": ".rs",
   "mimetype": "text/rust",
   "name": "Rust",
   "pygment_lexer": "rust",
   "version": ""
  }
 },
 "nbformat": 4,
 "nbformat_minor": 4
}
