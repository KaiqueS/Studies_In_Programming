{
 "cells": [
  {
   "cell_type": "markdown",
   "metadata": {},
   "source": [
    "# The Rust Programming Language\n",
    "\n",
    "## Chapter 1 - Gertting Started\n",
    "\n",
    "<b>Note:</b> if you are trying to set up VS Code for Rust, things are quite messy to begin with. Use the extension Rust-Analyzer and Better-Toml. Set up a Cargo.toml file with at least the following code\n",
    "\n",
    "[package]\n",
    "\n",
    "name = \"name_of_file.exe\"\n",
    "\n",
    "version = \"0.0.1\"\n",
    "\n",
    "authors = [ \"Your_name\" ]\n",
    "\n",
    "Then, proceed to create a src folder, and put your main.rs file in it. Run <b>cargo build</b>, and wait for it to finish buildind. After that, run <b>cargo run</b> and the file should be executed.\n",
    "\n",
    "To run it normally through VS Code, select <b>start without debugging</b>, and select a C++ compiler to generate a json file. Add the path to your executable at the appropriate field, save it, and run the file normally through VS code."
   ]
  },
  {
   "cell_type": "code",
   "execution_count": 4,
   "metadata": {},
   "outputs": [
    {
     "name": "stdout",
     "output_type": "stream",
     "text": [
      "Hello, World!\n"
     ]
    }
   ],
   "source": [
    "fn main( ){\n",
    "    \n",
    "    println!( \"Hello, World!\" ); // because of the !, println!() calls a macro\n",
    "                                 // Also, notice the ; to indicate end of line\n",
    "}\n",
    "\n",
    "main( );"
   ]
  },
  {
   "cell_type": "markdown",
   "metadata": {},
   "source": [
    "As in C++, <b>main()</b> function in Rust is the first code that in any executable program( almost literal transcription from the book ). \n",
    "\n",
    "The syntax for function declaration in Rust goes as follows:"
   ]
  },
  {
   "cell_type": "code",
   "execution_count": null,
   "metadata": {},
   "outputs": [],
   "source": [
    "fn function_name {\n",
    "    \n",
    "    // do something\n",
    "}"
   ]
  },
  {
   "cell_type": "markdown",
   "metadata": {},
   "source": [
    "I.e., we have the keyword <b>fn</b>, the function name and the enclosing brackets, which determines the function body and opens an inner scope.\n",
    "\n",
    "Code, in Rust, is indented with four spaces, not tabs! And lines end with <b>;</b>.\n",
    "\n",
    "<b>Attention</b> to one very important thing:\n",
    "\n",
    "&ensp;&ensp;&ensp;Code in Rust is <b>COMPILED</b>, while this Jupyter Notebook is interpreted and runs in many ways like a REPL. To run the code present here in an IDE or Editor, we must <b>compile</b> it. To do so, we must open our bash or command prompt, go to the folder where our code is in, and call the Rust compiler with the command <b>rustc file_name.rs</b>. After compiling, there will be a binary executable as an output. To run this output, and, thus, execute the program, on Linux we must **./**<b>file_name</b>, where on Windows we must <b>.\\file_name.exe</b>. Anyway, refer to pages 6-7 to see how to proceed.\n",
    "\n",
    "Rust's build system and package manager is <b>Cargo</b>. With it, we can build our own codes and download libraries, read dependencies, that can be used in them. The rest of the book will assume that we have Cargon installed. But, <b>REMEMBER</b>, this, here, is a Jupyter Notebook Rust Kernel! Codes here will be tested beforehand on Rust's compiler, i.e., out of here. So, be sure to install both Rust compiler and Cargo on your system too!\n",
    "\n",
    "To build a project with cargo, run the following commands on bash:"
   ]
  },
  {
   "cell_type": "code",
   "execution_count": null,
   "metadata": {},
   "outputs": [],
   "source": [
    "cargo new project_name // this command will not run here, since this is not exactly Rust code"
   ]
  },
  {
   "cell_type": "markdown",
   "metadata": {},
   "source": [
    "This will create a folder named <b>project_name</b>. Inside it, there will be two files and a directory in it:\n",
    "\n",
    "    a Cargo.toml file, and\n",
    "    a .gitignore file, and\n",
    "    a src directory containing a main.rs file with a \"Hello, World!\" code in it.\n",
    "\n",
    "<b>Personal Note</b>: those steps are VERY IMPORTANT when using Rust with IDEs or Editors. With Visual Studio Code, when setting up a Rust workspace, it is better if we, beforehand, use Cargo to build a new project, and, then, use this project directory as a workspace for Rust, at least for the project that we will work on at the time. This is so because VS Code, for it to work with Rust, will require some extensions that will only work if a Cargo.toml file is already present in the workspace.\n",
    "\n",
    "After creating this folder, access it through your bash or command prompt and run"
   ]
  },
  {
   "cell_type": "code",
   "execution_count": null,
   "metadata": {},
   "outputs": [],
   "source": [
    "cargo build // this command will not run here, since this is not exactly Rust code"
   ]
  },
  {
   "cell_type": "markdown",
   "metadata": {},
   "source": [
    "This command will create a new <i>Cargo.lock</i> file, which keeps track of the versions of the dependencies in our projects, and will create an executable in another folder in the same directory and will . To run it, do"
   ]
  },
  {
   "cell_type": "code",
   "execution_count": null,
   "metadata": {},
   "outputs": [],
   "source": [
    "./target/debug/program_name or .\\target\\debug\\program_name.exe // these commands will not run here, \n",
    "                                                               // since this is not exactly Rust code"
   ]
  },
  {
   "cell_type": "markdown",
   "metadata": {},
   "source": [
    "We can also use"
   ]
  },
  {
   "cell_type": "code",
   "execution_count": null,
   "metadata": {},
   "outputs": [],
   "source": [
    "cargon run // this command will not run here, since this is not exactly Rust code"
   ]
  },
  {
   "cell_type": "markdown",
   "metadata": {},
   "source": [
    "to both compile and run the executable.\n",
    "\n",
    "In contrast"
   ]
  },
  {
   "cell_type": "code",
   "execution_count": null,
   "metadata": {},
   "outputs": [],
   "source": [
    "cargo check // this command will not run here, since this is not exactly Rust code"
   ]
  },
  {
   "cell_type": "markdown",
   "metadata": {},
   "source": [
    "Checks if a code is compilable, but does not produces an executable binary of the code. Because of this, <b>cargo check</b> if sometimes faster than <b>cargo build</b>. So, consider using the former instead of the latter when we do not want to actually produce an executable. This will speed up the process. But, if we are really done with the program, want to compile and release it, we can do"
   ]
  },
  {
   "cell_type": "code",
   "execution_count": null,
   "metadata": {},
   "outputs": [],
   "source": [
    "cargo build --release // this command will not run here, since this is not exactly Rust code"
   ]
  },
  {
   "cell_type": "markdown",
   "metadata": {},
   "source": [
    "to build a program with optimizations. Of course, there will be compile time penalties, in the sense that it will take longer to build a program using the commands above.\n",
    "\n",
    "At last, Cargo commands are not platform dependent.\n",
    "\n",
    "In Rust, we call packages of codes <b>Crates</b>.\n",
    "\n",
    "# Chapter 2 - Programming A Guessing Game\n",
    "\n"
   ]
  }
 ],
 "metadata": {
  "kernelspec": {
   "display_name": "Rust",
   "language": "rust",
   "name": "rust"
  },
  "language_info": {
   "codemirror_mode": "rust",
   "file_extension": ".rs",
   "mimetype": "text/rust",
   "name": "Rust",
   "pygment_lexer": "rust",
   "version": ""
  }
 },
 "nbformat": 4,
 "nbformat_minor": 4
}
