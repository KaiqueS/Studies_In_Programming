{
 "cells": [
  {
   "cell_type": "markdown",
   "metadata": {
    "heading_collapsed": true
   },
   "source": [
    "# The Rust Programming Language\n",
    "\n",
    "## Chapter 1 - Gertting Started\n",
    "\n",
    "<b>Note:</b> if you are trying to set up VS Code for Rust, things are quite messy to begin with. Use the extension Rust-Analyzer and Better-Toml. Set up a Cargo.toml file with at least the following code\n",
    "\n",
    "[package]\n",
    "\n",
    "name = \"name_of_file.exe\"\n",
    "\n",
    "version = \"0.0.1\"\n",
    "\n",
    "authors = [ \"Your_name\" ]\n",
    "\n",
    "Then, proceed to create a src folder, and put your main.rs file in it. Run <b>cargo build</b>, and wait for it to finish buildind. After that, run <b>cargo run</b> and the file should be executed.\n",
    "\n",
    "To run it normally through VS Code, select <b>start without debugging</b>, and select a C++ compiler to generate a json file. Add the path to your executable at the appropriate field, save it, and run the file normally through VS code."
   ]
  },
  {
   "cell_type": "code",
   "execution_count": 4,
   "metadata": {
    "code_folding": [
     0
    ],
    "hidden": true
   },
   "outputs": [
    {
     "name": "stdout",
     "output_type": "stream",
     "text": [
      "Hello, World!\n"
     ]
    }
   ],
   "source": [
    "fn main( ){\n",
    "    \n",
    "    println!( \"Hello, World!\" ); // because of the !, println!() calls a macro\n",
    "                                 // Also, notice the ; to indicate end of line\n",
    "}\n",
    "\n",
    "main( );"
   ]
  },
  {
   "cell_type": "markdown",
   "metadata": {
    "hidden": true
   },
   "source": [
    "As in C++, <b>main()</b> function in Rust is the first code that in any executable program( almost literal transcription from the book ). \n",
    "\n",
    "The syntax for function declaration in Rust goes as follows:"
   ]
  },
  {
   "cell_type": "code",
   "execution_count": null,
   "metadata": {
    "code_folding": [
     0
    ],
    "hidden": true
   },
   "outputs": [],
   "source": [
    "fn function_name( /*parameters*/ ) {\n",
    "    \n",
    "    // do something\n",
    "}"
   ]
  },
  {
   "cell_type": "markdown",
   "metadata": {
    "hidden": true
   },
   "source": [
    "I.e., we have the keyword <b>fn</b>, the function name and the enclosing brackets, which determines the function body and opens an inner scope.\n",
    "\n",
    "Code, in Rust, is indented with four spaces, not tabs! And lines end with <b>;</b>.\n",
    "\n",
    "<b>Attention</b> to one very important thing:\n",
    "\n",
    "&ensp;&ensp;&ensp;Code in Rust is <b>COMPILED</b>, while this Jupyter Notebook is interpreted and runs in many ways like a REPL. To run the code present here in an IDE or Editor, we must <b>compile</b> it. To do so, we must open our bash or command prompt, go to the folder where our code is in, and call the Rust compiler with the command <b>rustc file_name.rs</b>. After compiling, there will be a binary executable as an output. To run this output, and, thus, execute the program, on Linux we must **./**<b>file_name</b>, where on Windows we must <b>.\\file_name.exe</b>. Anyway, refer to pages 6-7 to see how to proceed.\n",
    "\n",
    "Rust's build system and package manager is <b>Cargo</b>. With it, we can build our own codes and download libraries, read dependencies, that can be used in them. The rest of the book will assume that we have Cargon installed. But, <b>REMEMBER</b>, this, here, is a Jupyter Notebook Rust Kernel! Codes here will be tested beforehand on Rust's compiler, i.e., out of here. So, be sure to install both Rust compiler and Cargo on your system too!\n",
    "\n",
    "To build a project with cargo, run the following commands on bash:"
   ]
  },
  {
   "cell_type": "code",
   "execution_count": null,
   "metadata": {
    "hidden": true
   },
   "outputs": [],
   "source": [
    "cargo new project_name // this command will not run here, since this is not exactly Rust code"
   ]
  },
  {
   "cell_type": "markdown",
   "metadata": {
    "hidden": true
   },
   "source": [
    "This will create a folder named <b>project_name</b>. Inside it, there will be two files and a directory in it:\n",
    "\n",
    "    a Cargo.toml file, and\n",
    "    a .gitignore file, and\n",
    "    a src directory containing a main.rs file with a \"Hello, World!\" code in it.\n",
    "\n",
    "<b>Personal Note</b>: those steps are VERY IMPORTANT when using Rust with IDEs or Editors. With Visual Studio Code, when setting up a Rust workspace, it is better if we, beforehand, use Cargo to build a new project, and, then, use this project directory as a workspace for Rust, at least for the project that we will work on at the time. This is so because VS Code, for it to work with Rust, will require some extensions that will only work if a Cargo.toml file is already present in the workspace.\n",
    "\n",
    "After creating this folder, access it through your bash or command prompt and run"
   ]
  },
  {
   "cell_type": "code",
   "execution_count": null,
   "metadata": {
    "hidden": true
   },
   "outputs": [],
   "source": [
    "cargo build // this command will not run here, since this is not exactly Rust code"
   ]
  },
  {
   "cell_type": "markdown",
   "metadata": {
    "hidden": true
   },
   "source": [
    "This command will create a new <i>Cargo.lock</i> file, which keeps track of the versions of the dependencies in our projects, and will create an executable in another folder in the same directory and will . To run it, do"
   ]
  },
  {
   "cell_type": "code",
   "execution_count": null,
   "metadata": {
    "hidden": true
   },
   "outputs": [],
   "source": [
    "./target/debug/program_name or .\\target\\debug\\program_name.exe // these commands will not run here, \n",
    "                                                               // since this is not exactly Rust code"
   ]
  },
  {
   "cell_type": "markdown",
   "metadata": {
    "hidden": true
   },
   "source": [
    "We can also use"
   ]
  },
  {
   "cell_type": "code",
   "execution_count": null,
   "metadata": {
    "hidden": true
   },
   "outputs": [],
   "source": [
    "cargon run // this command will not run here, since this is not exactly Rust code"
   ]
  },
  {
   "cell_type": "markdown",
   "metadata": {
    "hidden": true
   },
   "source": [
    "to both compile and run the executable.\n",
    "\n",
    "In contrast"
   ]
  },
  {
   "cell_type": "code",
   "execution_count": null,
   "metadata": {
    "hidden": true
   },
   "outputs": [],
   "source": [
    "cargo check // this command will not run here, since this is not exactly Rust code"
   ]
  },
  {
   "cell_type": "markdown",
   "metadata": {
    "hidden": true
   },
   "source": [
    "Checks if a code is compilable, but does not produces an executable binary of the code. Because of this, <b>cargo check</b> if sometimes faster than <b>cargo build</b>. So, consider using the former instead of the latter when we do not want to actually produce an executable. This will speed up the process. But, if we are really done with the program, want to compile and release it, we can do"
   ]
  },
  {
   "cell_type": "code",
   "execution_count": null,
   "metadata": {
    "hidden": true
   },
   "outputs": [],
   "source": [
    "cargo build --release // this command will not run here, since this is not exactly Rust code"
   ]
  },
  {
   "cell_type": "markdown",
   "metadata": {
    "hidden": true
   },
   "source": [
    "to build a program with optimizations. Of course, there will be compile time penalties, in the sense that it will take longer to build a program using the commands above.\n",
    "\n",
    "At last, Cargo commands are not platform dependent.\n",
    "\n",
    "In Rust, we call packages of codes <b>Crates</b>.\n",
    "\n",
    "# Chapter 2 - Programming A Guessing Game\n",
    "\n",
    "Consider the following code:"
   ]
  },
  {
   "cell_type": "code",
   "execution_count": null,
   "metadata": {
    "code_folding": [
     3
    ],
    "hidden": true
   },
   "outputs": [
    {
     "name": "stdout",
     "output_type": "stream",
     "text": [
      "Guess the number!\n",
      "Please input your guess:\n"
     ]
    }
   ],
   "source": [
    "use std::io; // This brings the io library into scope. The library comes from std,\n",
    "             // which is the Standard Library\n",
    "\n",
    "fn main( ){\n",
    "\n",
    "    println!( \"Guess the number!\" );\n",
    "\n",
    "    println!( \"Please input your guess:\" );\n",
    "\n",
    "    let mut guess = String::new( ); // This creates a mutable String object called guess\n",
    "\n",
    "    io::stdin( ).read_line( &mut guess ).expect( \"Failed to read line\" ); // This invokes a function directly from io\n",
    "\n",
    "    println!( \"Your guessed: {}\", guess );\n",
    "}\n",
    "\n",
    "main( ); // This line is not needed when running Rust in an IDE or\n",
    "         // from a command prompt and using rustc or Cargo"
   ]
  },
  {
   "cell_type": "markdown",
   "metadata": {
    "hidden": true
   },
   "source": [
    "To be able to perform some operations in our programs, we need features/functions to handle those operations. We can either make our own functions or use existing ones. To do the latter, we must do\n",
    "\n",
    "<b>use library_name;</b>\n",
    "\n",
    "as in the code above, were we invoked <b>std::io</b> to handle input and output operations. Invoking can be read as <i>bringing into scope</i> with an <b>use</b> statement. \"By default, Rust brings only a few types into the scope of every program in the <i>prelude</i>.\"( KLABNIK, 2019 ).\n",
    "\n",
    "The code \n",
    "\n",
    "<b>let mut guess = String::new();</b>\n",
    "\n",
    "creates a <b>mutable</b> of type <b>String</b> variable where the input in the program will be stored in. The <b>::new()</b> alongside <b>String</b> indicates a function that returns a new instance of <b>String</b>. <b>String</b>s in the standard library of Rust are growable, UTF-8 encoded bits of text.\n",
    "\n",
    "The syntax <b>::</b> in <b>String::new()</b> means that <b>new()</b> is an <i>associated function</i> or <i>static method</i>, i.e., a function implemented and disponible for a whole type, instead of only for its instances.\n",
    "\n",
    "The <b>let</b> is a <b>let statement</b>, which is used to create variables. Also, the variable is <b>mut</b>, or <b>mutable</b>, because its value can be modified, i.e., is not constant. This is important because by default in Rust variables are <b>immutable</b>. At last, values are <b>bound</b> to variables. E.g., consider the following code:"
   ]
  },
  {
   "cell_type": "code",
   "execution_count": 3,
   "metadata": {
    "code_folding": [
     0
    ],
    "hidden": true,
    "run_control": {
     "marked": false
    }
   },
   "outputs": [
    {
     "name": "stdout",
     "output_type": "stream",
     "text": [
      "first: 5\n",
      "second: 5\n",
      "second: 5\n",
      "left list: 3\n",
      "right list: 3\n",
      "left list: 52\n",
      "right list: 3\n"
     ]
    }
   ],
   "source": [
    "fn binding_example( ){\n",
    "\n",
    "    let mut first = 5;\n",
    "    let mut second = first;\n",
    "\n",
    "    println!( \"first: {}\", first );\n",
    "    println!( \"second: {}\", second );\n",
    "\n",
    "    first = 8; // This will NOT modify second\n",
    "\n",
    "    println!( \"second: {}\", second );\n",
    "\n",
    "    let mut left = [ 1, 2, 3, 4,5 ];\n",
    "    let mut right = left;\n",
    "\n",
    "    println!( \"left list: {}\", left[ 2 ] );\n",
    "    println!( \"right list: {}\", right[ 2 ] );\n",
    "\n",
    "    left[ 2 ] = 52; // Ths will NOT modify right[ 2 ]\n",
    "\n",
    "    println!( \"left list: {}\", left[ 2 ] );\n",
    "    println!( \"right list: {}\", right[ 2 ] );\n",
    "}\n",
    "\n",
    "binding_example( );"
   ]
  },
  {
   "cell_type": "markdown",
   "metadata": {
    "hidden": true
   },
   "source": [
    "Notice that assignments of variables to variables are made by <b>value</b>, instead of by reference. Roughly speaking, this means that, when we create a new variable and assign to it an old existing variable, we are taking the value of the latter and using it on the former, just like in C++ when dealing with normal( not reference nor pointer ) variables. This constrasts with some assignments in Python, where, depending on the type and mutability of the entity that we are labelling with a variable, assigning another variable to an existing one is the same as providing a new label for that old variable, so that changes in the former WILL affect the later, because we are not only handling the value of the former, we are in fact just giving another label, i.e. new variable, to it. We will get back to this later.\n",
    "\n",
    "<b>Side question:</b> Is Rust statically or dynamically typed? I ask this because the type of <b>guess</b> is at the RHS of the declaration. <b>Answer:</b> Strong and Statically typed with type inference. That is why <b>guess</b> works how it does. Refer to: https://doc.rust-lang.org/1.29.0/book/first-edition/variable-bindings.html\n",
    "\n",
    "Now, lets proceed to\n",
    "\n",
    "<b>io::stdin().read_line(</b>**&**<b>mut guess).expect(\"Failed to read line\");</b>\n",
    "\n",
    "A quick note: we used <b>use std::io;</b> to invoke the library <b>std::io</b> and use its facilities at the beginning of the code. We could do the same without the need for <b>use std::io</b> by doing <b>std::io::method_name_here()</b> directly where we need the facility. I.e., we can invoke features/facilites/types from libraries directly in code by using the libray name and the operator </b>::</b>. Now, back to the code.\n",
    "\n",
    "Here, we are calling the method <b>read_line(</b>**&**<b>mut guess)</b>, which gets **&**<b>mut guess</b> as a parameter. The mentioned method is in <b>io::stdin</b>, which, in turn, returns an instance of <b>io::Stdin</b>, that is a type to handle input. <b>read_line</b>, as the name says, gets input from an user. It, in turn, gets this input as an argument and put anything written in the terminal into the string.\n",
    "\n",
    "Also: the **&** in <b>.read_line(</b>**&**<b>mut guess)</b> means that <b>guess</b> is being handled as a <b>REFERENCE</b>. I.e., we are handling <b>guess</b> directly, not a copy of it.\n",
    "\n",
    "Now, the last function called, <b>.expect(\"Failed to read line\");</b>, is used to handle failures in the program. It returns a value of type <b>io::Result</b>, which is an <b>enumeration</b>, i.e., a type with a fixed set of values, called <b>variants</b>. The purpose of the former is to encode error-handling information( KLABNIK, 2019 ). To do so, its variants are <b>Ok</b> and <b>Err</b>. The first signals a successful operation, while the latter signals a failure. When the program fails, <b>Err</b> will display the message passed to it as an argument, i.e., here it is \"Failed to read line\". As for <b>Ok</b>, it will be return when the program proceeded normally, and the value of the former will be the number of bytes in what was passed to input.\n",
    "\n",
    "Not calling <b>.expect()</b> when handling input will not stop compilling, but will raise a warning, because the value of <b>Result</b>, used to indicate errors, is not being used.\n",
    "\n",
    "A last a comment about <b>println!()</b>: the curly brackets <b>{}</b> within it are placeholders for the values of the variables that are passed to <b>println!</b>, and they handle those values in sequence. So, if we want to print a sequence of values, we need as many curly brackets as variables and the order in which we want to print them. E.g.:"
   ]
  },
  {
   "cell_type": "code",
   "execution_count": 4,
   "metadata": {
    "hidden": true
   },
   "outputs": [
    {
     "name": "stdout",
     "output_type": "stream",
     "text": [
      "first: 43 and second: 11\n"
     ]
    }
   ],
   "source": [
    "let first = 43;\n",
    "let second = 11;\n",
    "\n",
    "println!( \"first: {} and second: {}\", first, second );"
   ]
  },
  {
   "cell_type": "markdown",
   "metadata": {
    "hidden": true
   },
   "source": [
    "Now, to advance further with the development of Guessing Game, we need some randomness, and, for that, we will need some crates. To download and use the latter, we will need to modify our project's Cargo.toml file. To do so, go the the Cargo.toml file generated when building our project with Cargo, and find the section\n",
    "\n",
    "**[dependencies]**\n",
    "\n",
    "Add this line to it\n",
    "\n",
    "<b>rand = \"0.3.14\"</b>\n",
    "\n",
    "and proceed to build the project using <b>cargo build</b>\n",
    "\n",
    "This is how we add crates to our projects.\n",
    "\n",
    "Still about Cargo, it guarantees an easier identification and reproduction of artifacts or correctness in code. It does that by restricting the builds of our projects only to the dependencies specified by us, i.e., it will use only what we tell it to use, not updating or modifying in any way by itself. This is true except for the first time we build a project <b>without</b> telling what dependencies we want, i.e., letting Cargo figure everything by itself. In the first time, Cargo will figure out what is needed for our code to be built, and will write those dependencies to the <i>Cargo.lock</i> file. After writing to the file, Cargo will refer to it and use what was written there, instead of doing all the work again.\n",
    "\n",
    "One las thing: we can let Cargo update our dependencies by using <b>cargo update</b>. Any updates done by cargo will be written to our <i>Cargo.lock</i> file, and any specific versions of updates we want must be written by ourselves to the <i>Cargo.toml</i> file.\n",
    "\n",
    "Back to the code, we now can do:"
   ]
  },
  {
   "cell_type": "code",
   "execution_count": null,
   "metadata": {
    "code_folding": [
     7
    ],
    "hidden": true,
    "run_control": {
     "marked": true
    }
   },
   "outputs": [],
   "source": [
    "// Since this code uses imported crates, and I do not know how to import crates in a Jupyter Kernel,\n",
    "// I suggest you to test this code on your IDE of choice\n",
    "\n",
    "use std::io;\n",
    "use std::cmp::Ordering;\n",
    "use rand::Rng; // The new crate with RNG\n",
    "\n",
    "fn main( ){\n",
    "\n",
    "    println!( \"Guess the number!\" );\n",
    "\n",
    "    let secret_number = rand::thread_rng().gen_range(1, 101); // This generates a random number in the interval\n",
    "                                                              // [ lower, upper ). E.g., [ 1, 101 )\n",
    "    \n",
    "    println!( \"The secret number is: {}\", secret_number );    // This merely prints the random number\n",
    "    \n",
    "    println!( \"Please input your guess:\" );\n",
    "\n",
    "    let mut guess = String::new( );\n",
    "\n",
    "    io::stdin( ).read_line( &mut guess ).expect( \"Failed to read line\" );\n",
    "\n",
    "    println!( \"Your guessed: {}\", guess );\n",
    "    \n",
    "    match guess.cmp( &secret_number ){ // This will NOT compile, because guess is of String type and secret_number,\n",
    "                                       // which is being compared to guess, is of an integer type\n",
    "        \n",
    "        // Each one of these are arms\n",
    "        Ordering::Less => println!( \"Too small!\" ),\n",
    "        Ordering::Greater => println!( \"Too big!\" ),\n",
    "        Ordering::Equal => println!( \"You win!\" ),\n",
    "    }\n",
    "}\n",
    "\n",
    "main( ); // This line is not needed when running Rust from an IDE or\n",
    "         // from a command prompt and using rustc or Cargo"
   ]
  },
  {
   "cell_type": "markdown",
   "metadata": {
    "hidden": true
   },
   "source": [
    "First, one thing: <b>.cmp()</b> is an interesting method. It compares its caller, i.e., <b>caller.cmp(</b> **&**<b>parameter )</b> with the parameter passed to it. It then returns a variant of the enumeration Ordering.\n",
    "\n",
    "I.e., it is similar to"
   ]
  },
  {
   "cell_type": "code",
   "execution_count": null,
   "metadata": {
    "code_folding": [
     0
    ],
    "hidden": true
   },
   "outputs": [],
   "source": [
    "fn cmp( &compared, &comparer ){\n",
    "    \n",
    "    // compared > comparer?\n",
    "    // compared == comparer?\n",
    "    // compared < comparer?\n",
    "    \n",
    "    // return Ordering variant\n",
    "}"
   ]
  },
  {
   "cell_type": "markdown",
   "metadata": {
    "hidden": true
   },
   "source": [
    "The <b>match</b> expression above is made of <i>arms</i> each of which compares the argument, the result of <b>guess.cmp(</b>**&**<b>secret_number)</b>, against a pattern. If the argument corresponds to one of the patterns in the expression, the code of the corresponding arm will run. Its syntax is:"
   ]
  },
  {
   "cell_type": "code",
   "execution_count": null,
   "metadata": {
    "code_folding": [
     0
    ],
    "hidden": true,
    "run_control": {
     "marked": true
    }
   },
   "outputs": [],
   "source": [
    "match value{\n",
    "    \n",
    "    // pattern_value1 => do something,\n",
    "    // pattern_value2 => do other thing,\n",
    "    // .\n",
    "    // .\n",
    "    // .\n",
    "    // pattern_valueN => do whatever,\n",
    "}"
   ]
  },
  {
   "cell_type": "markdown",
   "metadata": {
    "hidden": true
   },
   "source": [
    "so, it is very similar to C++ <b>switch</b> statement. Similar, but not equal! <b>match</b> is less restricted. A better comparison would be with Haskell pattern-matching expressions.\n",
    "\n",
    "We can now update our guessing game to:"
   ]
  },
  {
   "cell_type": "code",
   "execution_count": null,
   "metadata": {
    "code_folding": [
     7
    ],
    "hidden": true
   },
   "outputs": [],
   "source": [
    "// Since this code uses imported crates, and I do not know how to import crates in a Jupyter Kernel,\n",
    "// I suggest you to test this code on your IDE of choice\n",
    "\n",
    "use std::io;\n",
    "use std::cmp::Ordering;\n",
    "use rand::Rng; // The new crate with RNG\n",
    "\n",
    "fn main( ){\n",
    "\n",
    "    println!( \"Guess the number!\" );\n",
    "\n",
    "    let secret_number = rand::thread_rng().gen_range(1, 101);\n",
    "    \n",
    "    println!( \"The secret number is: {}\", secret_number );\n",
    "    \n",
    "    println!( \"Please input your guess:\" );\n",
    "\n",
    "    let mut guess = String::new( );\n",
    "\n",
    "    io::stdin( ).read_line( &mut guess ).expect( \"Failed to read line\" );\n",
    "\n",
    "    // This SHADOWS the previous guess declaration and \"converts\" it to u32\n",
    "    let guess: u32 = guess.trim( ).parse( ).expect( \"Please type a number!\" );                                                                           // \n",
    "                       // .trim( ) is a method from String type. It removes newlines from strings\n",
    "                       // .parse( ) is a method from String type. It parses a string into a number. Return a Result type\n",
    "    \n",
    "    println!( \"Your guessed: {}\", guess );\n",
    "    \n",
    "    match guess.cmp( &secret_number ){ // Now this will compile, because both guess and secret_number are of the same type\n",
    "        \n",
    "        // Each one of these are arms\n",
    "        Ordering::Less => println!( \"Too small!\" ),\n",
    "        Ordering::Greater => println!( \"Too big!\" ),\n",
    "        Ordering::Equal => println!( \"You win!\" ),\n",
    "    }\n",
    "}\n",
    "\n",
    "main( ); // This line is not needed when running Rust from an IDE or\n",
    "         // from a command prompt and using rustc or Cargo"
   ]
  },
  {
   "cell_type": "markdown",
   "metadata": {
    "hidden": true
   },
   "source": [
    "To annotate a type, i.e., tell Rust the type of a variable we declare, we use <b>:</b> after the name of the variable, as in\n",
    "\n",
    "<b>let guess: u32</b>\n",
    "\n",
    "Now, lets change the program so as to run it many types, and, thus, allowing for more than one guess. We do that with <b>loop</b>, which loops indefinitely a block of code, as in:"
   ]
  },
  {
   "cell_type": "code",
   "execution_count": null,
   "metadata": {
    "hidden": true
   },
   "outputs": [],
   "source": [
    "loop{\n",
    "    \n",
    "    // do something indefinitely\n",
    "}"
   ]
  },
  {
   "cell_type": "markdown",
   "metadata": {
    "hidden": true
   },
   "source": [
    "Ok, \"indefinitely\" might have been an overstatement. It is possible to break out of <b>loop</b> with <b>break</b> statement, which exits its nearest loop, i.e., the loop in its closest scope. E.g.:"
   ]
  },
  {
   "cell_type": "code",
   "execution_count": null,
   "metadata": {
    "hidden": true
   },
   "outputs": [],
   "source": [
    "loop{\n",
    "    \n",
    "    // do something\n",
    "    \n",
    "    break; // This will make our program leave the loop\n",
    "}"
   ]
  },
  {
   "cell_type": "markdown",
   "metadata": {
    "hidden": true
   },
   "source": [
    "The finished code for the guessing game looks like this:"
   ]
  },
  {
   "cell_type": "code",
   "execution_count": null,
   "metadata": {
    "code_folding": [
     4
    ],
    "hidden": true,
    "run_control": {
     "marked": true
    }
   },
   "outputs": [],
   "source": [
    "use std::io;\n",
    "use std::cmp::Ordering;\n",
    "use rand::Rng;\n",
    "\n",
    "fn main( ){\n",
    "\n",
    "    println!( \"Guess the number!\" );\n",
    "\n",
    "    let secret_number = rand::thread_rng( ).gen_range( 1, 101 );\n",
    "    \n",
    "    // println!( \"The secret number is: {}\", secret_number );\n",
    "\n",
    "    loop{\n",
    "        \n",
    "        println!( \"Please input your guess:\" );\n",
    "\n",
    "        let mut guess = String::new( );\n",
    "\n",
    "        io::stdin( ).read_line( &mut guess ).expect( \"Failed to read line\" );\n",
    "\n",
    "        let guess: u32 = match guess.trim( ).parse( ){\n",
    "\n",
    "            Ok( num ) => num,\n",
    "            Err( _ ) => continue,\n",
    "        };\n",
    "\n",
    "        println!( \"Your guessed: {}\", guess );\n",
    "\n",
    "        match guess.cmp( &secret_number ){\n",
    "\n",
    "            Ordering::Less => println!( \"Too small!\" ),\n",
    "            Ordering::Greater => println!( \"Too big!\" ),\n",
    "            Ordering::Equal => {\n",
    "                \n",
    "                println!( \"The secret number is: {}\", secret_number ); // This line is not in the book. Feel \n",
    "                                                                       // free to remove it\n",
    "\n",
    "                println!( \"You win!\" );\n",
    "\n",
    "                break;\n",
    "            }\n",
    "        }\n",
    "    }\n",
    "}"
   ]
  },
  {
   "cell_type": "markdown",
   "metadata": {
    "heading_collapsed": true
   },
   "source": [
    "# Chapter 3 - Common Programming Concepts\n",
    "\n",
    "In this chapter, we will learn about variables, basic types, functions, comments, and control flow( KLABNIK, 2019 ).\n",
    "\n",
    "In Rust, by default, variables are immutable, i.e., once a value is assigned to a variable, it cannot be changed. E.g.:"
   ]
  },
  {
   "cell_type": "code",
   "execution_count": 2,
   "metadata": {
    "hidden": true
   },
   "outputs": [
    {
     "ename": "Error",
     "evalue": "cannot assign twice to immutable variable `x`",
     "output_type": "error",
     "traceback": [
      "let x = 5;",
      "\u001b[91m    ^\u001b[0m \u001b[94mfirst assignment to `x`\u001b[0m",
      "x = 6; ",
      "\u001b[91m^^^^^\u001b[0m \u001b[94mcannot assign twice to immutable variable\u001b[0m",
      "cannot assign twice to immutable variable `x`"
     ]
    }
   ],
   "source": [
    "let x = 5;\n",
    "\n",
    "println!( \"The value of x is: {}\", x );\n",
    "\n",
    "x = 6; // This is forbidden and will not compile\n",
    "\n",
    "println!( \"The value of x is: {}\", x );"
   ]
  },
  {
   "cell_type": "markdown",
   "metadata": {
    "hidden": true
   },
   "source": [
    "But, Rust does provide tool for us to make variables susceptible to side-effects, e.g.:"
   ]
  },
  {
   "cell_type": "code",
   "execution_count": 8,
   "metadata": {
    "hidden": true
   },
   "outputs": [
    {
     "name": "stdout",
     "output_type": "stream",
     "text": [
      "The value of mutable is: 5\n",
      "The value of mutable is: 6\n"
     ]
    }
   ],
   "source": [
    "let mut mutable = 5;\n",
    "\n",
    "println!( \"The value of mutable is: {}\", mutable );\n",
    "\n",
    "mutable = 6; // Thies DOES compiles\n",
    "\n",
    "println!( \"The value of mutable is: {}\", mutable );"
   ]
  },
  {
   "cell_type": "markdown",
   "metadata": {
    "hidden": true
   },
   "source": [
    "Whether we should abide by immutability or not is a matter of our needs, but, by design, Rust does have a tendency towards the former, so, lets try to go for that too.\n",
    "\n",
    "Still about immutability, there is a concept similar to it: <i>constants</i>. They are similar in that both refer to values that are no modifiable past declaration and initialization. But they are different insofar as constant variables are not allowed to be <b>mut</b>, their types <b>MUST</b> be annotated at declaration, and any expression used to initiliaze a constant variable must have its value known at compile time. It is a convention in Rust to let the name of constant variables in uppercase with underscores between words. To declare a constant variable, we do:"
   ]
  },
  {
   "cell_type": "code",
   "execution_count": 9,
   "metadata": {
    "hidden": true
   },
   "outputs": [
    {
     "name": "stdout",
     "output_type": "stream",
     "text": [
      "The value of constant is: 50\n"
     ]
    }
   ],
   "source": [
    "const CONSTANT: u32 = 50; // How to declare a constant variable in Rust\n",
    "\n",
    "println!( \"The value of constant is: {}\", constant );\n",
    "\n",
    "// const mut newvalue: u32 = 24; This is not allowed"
   ]
  },
  {
   "cell_type": "markdown",
   "metadata": {
    "hidden": true
   },
   "source": [
    "More generally, the syntax for <b>const</b> is:\n",
    "\n",
    "<b>const name_of_variable: type = some_value;</b>\n",
    "\n",
    "Please, DO use meaningful names on constants! Do not make a constant appear to be a fixed magic number, i.e., a value without explicit meaning behind it.\n",
    "\n",
    "Now, above, we presented a case where we repeated the declaration of a same variable, but assigning different values at each declaration( we did this with <b>guess</b>, where it first started as an instance of <b>String</b> and then became an instance of <b>u32</b> ). This is called <b>Name Shadowing</b>. To <b>shadow</b> a declaration, we do the following:"
   ]
  },
  {
   "cell_type": "code",
   "execution_count": 10,
   "metadata": {
    "hidden": true
   },
   "outputs": [
    {
     "name": "stdout",
     "output_type": "stream",
     "text": [
      "The first value of shadowed_value is: 34\n",
      "The second value of shadowed_value is: 77\n",
      "The final value of shadowed_value is: 154\n"
     ]
    }
   ],
   "source": [
    "let shadowed_value = 34;\n",
    "\n",
    "println!( \"The first value of shadowed_value is: {}\", shadowed_value );\n",
    "\n",
    "let shadowed_value = shadowed_value + 43;\n",
    "\n",
    "println!( \"The second value of shadowed_value is: {}\", shadowed_value );\n",
    "\n",
    "let shadowed_value = shadowed_value * 2;\n",
    "\n",
    "println!( \"The final value of shadowed_value is: {}\", shadowed_value );"
   ]
  },
  {
   "cell_type": "markdown",
   "metadata": {
    "hidden": true
   },
   "source": [
    "But, how is this different from simple reassignment? \n",
    "\n",
    "Well, we know that in Rust variables are immutable by default. So, suppose we try to change its value without redeclaring, what will happen? The compiler will complain until you die. That will happen. Now, suppose we make this variable mutable, what would be, then, the point in redeclaring it if we could just CHANGE its value? No point at all. This leaves us with our only option to \"change\" the value of an immutable variable: shadowing its previous declaration! It is not a \"reassignment\" because its semantics is different, since we are indeed creating a new variable with an used name. This requires a different syntax. I.e., we have to use\n",
    "    \n",
    "<b>let variable_name: annotated type = new_value;</b>\n",
    "\n",
    "where it is not necessary to annotate the type.\n",
    "\n",
    "It is also interesting to know that, as in the code above, we can reuse properties acquired in previous declarations. E.g.: <b>shadowed_value</b>, in the last two shadowings, uses values from previous declarations.\n",
    "\n",
    "One last thing about shadowing: since we are creating new variables with used names, we can make new declarations of a variable be of a different type than its previous declarations. This is not possible, e.g., with mutable variables, since with these we can only change values within a type-domain, i.e., with values of the same type. Mutability is a property of values, not types! Consider:"
   ]
  },
  {
   "cell_type": "code",
   "execution_count": 11,
   "metadata": {
    "hidden": true
   },
   "outputs": [
    {
     "ename": "Error",
     "evalue": "mismatched types",
     "output_type": "error",
     "traceback": [
      "spaces = spaces.len( ); ",
      "\u001b[91m         ^^^^^^^^^^^^^\u001b[0m \u001b[94mexpected `&str`, found `usize`\u001b[0m",
      "mismatched types"
     ]
    }
   ],
   "source": [
    "let mut spaces = \"   \";\n",
    "spaces = spaces.len( ); // This is not allowed. spaces is a String, where spaces.len() is an integer!"
   ]
  },
  {
   "cell_type": "code",
   "execution_count": 12,
   "metadata": {
    "hidden": true
   },
   "outputs": [
    {
     "name": "stdout",
     "output_type": "stream",
     "text": [
      "We have 3 spaces\n"
     ]
    }
   ],
   "source": [
    "let spaces = \"   \";\n",
    "let spaces = spaces.len( ); // This is allowed, since spaces now is a different variable\n",
    "\n",
    "println!( \"We have {} spaces\", spaces );"
   ]
  },
  {
   "cell_type": "markdown",
   "metadata": {
    "hidden": true
   },
   "source": [
    "Be sure to keep track of every shadowing, unless you want to confuse yourself and use wrong shadows in wrong places.\n",
    "\n",
    "## Data Types\n",
    "\n",
    "We will first consider two data type subsets, be they: <b>scalar</b> and <b>compound</b>.\n",
    "\n",
    "<b>Scalars</b> represents single values( KLABNIK, 2019 ). They can be\n",
    "\n",
    "* <b>integers</b> - numbers without fractional components. Can be signed( explicitly signed ) or unsigned( implicitly positive ). Signed values are within $[-2^( n- 1 ), 2^( n - 1)]$, and unsigned from $[0, 2^( n - 1 )]$, where n refers to bit-size of the variant chosen. By default, Rust uses i32, except for <b>isize</b> and <b>usize</b>, which bit-size depends on the cpu architecture. Also, be sure to use values within the range of your integer types, else, we will suffer with <b>integer overflow</b>. In the latter case, Rust <b>panic</b>, i.e., exits a program with an error at runtime. But it only does so if we are not compiling in release mode with <b>--release</b> flag. In the latter case, Rust performs <i>two's complement wrapping around</i>, i.e., the result of <b>wrong_value % max_allowed_value</b>. The program will not <b>panic</b>, but we will be handling a potentially undesiring value, which is considered an error. If we do want wrappings, use <b>Wrapping</b>. Refer to page 37( KLABNIK, 2019 ), table 3-1, to check the integer types.\n",
    "\n",
    "\n",
    "* <b>floating-point numbers</b> - decimal points. Defaults to <b>f64</b>., i.e., double precision floats , but can also be <b>f32</b>.\n",
    "\n",
    "\n",
    "* <b>booleans</b> - true or false. One byte in size. Use <b>bool</b> to declare a boolean.\n",
    "\n",
    "\n",
    "* <b>characters</b> - alphabetic type. 4 bytes in size. Represents Unicode Scalar Value. Use <b>char</b> to declare a character.\n",
    "\n",
    "Signedness is stored using <i>two's complement representation</i>. Refer to https://www.cs.cornell.edu/~tomf/notes/cps104/twoscmp.html\n",
    "\n"
   ]
  },
  {
   "cell_type": "markdown",
   "metadata": {
    "hidden": true
   },
   "source": [
    "<b>Compound Types</b>: containers, i.e., groups of multiple values inside a type. They can be\n",
    "\n",
    "* <b>tuples</b> - holds multiple values of different( or equal ) types. Fixed length, i.e., cannot grow or shrink. Keep in mind that, even though it handles several elements, a tuple itself is a single compound element. We declare a tuple in the following way:\n",
    "\n",
    "<b>let tuple_name: ( type1, type2, ..., typeN ) = ( value1, value2, ..., valueN )</b>\n",
    "\n",
    "E.g.:"
   ]
  },
  {
   "cell_type": "code",
   "execution_count": 10,
   "metadata": {
    "hidden": true
   },
   "outputs": [
    {
     "name": "stdout",
     "output_type": "stream",
     "text": [
      "The value of x is: 30\n",
      "The value of y is: 56.3456\n",
      "The value of z is: 1\n",
      "last_value is 1\n"
     ]
    }
   ],
   "source": [
    "let tuple: ( i32, f64, u8 ) = ( 30, 56.3456, 1 );\n",
    "\n",
    "let( x, y, z ) = tuple; // Pattern matching and tuple destructuration, i.e., retrieving information\n",
    "                      // from tuples and assigning it to variable. This is called Destructuring\n",
    "\n",
    "println!( \"The value of x is: {}\", x ); // x's type will be inferred to be of i32 type\n",
    "println!( \"The value of y is: {}\", y ); // y's type will be inferred to be of f64 type\n",
    "println!( \"The value of z is: {}\", z ); // z's type will be inferred to be of u8 type\n",
    "\n",
    "let last_value = tuple.2; // Syntax for direct access of a tuple's element\n",
    "\n",
    "println!( \"last_value is {}\", last_value );"
   ]
  },
  {
   "cell_type": "markdown",
   "metadata": {
    "hidden": true
   },
   "source": [
    "Because of its nature, we can perform <b>Destructuring</b> on tuples. This means we can break it into as many parts as it has values, and assign each value to a variable, which will have Rust inferring its type from the type of its value.\n",
    "\n",
    "At last, we can access any element from a tuple using\n",
    "\n",
    "<b>tuple.index_of_intended_element</b>\n",
    "\n",
    "where the index range is [ 0, size of tuple - 1 ].\n",
    "\n",
    "* <b>arrays</b> - stack allocated, fixed size container of elements of the same type.\n",
    "\n",
    "We declare an array in the following way: <b>let array_name = [ elements ]</b>\n",
    "\n",
    "The type of the array will be inferred from its elements."
   ]
  },
  {
   "cell_type": "code",
   "execution_count": 6,
   "metadata": {
    "hidden": true
   },
   "outputs": [
    {
     "name": "stdout",
     "output_type": "stream",
     "text": [
      "element 11\n",
      "element 22\n",
      "element 33\n",
      "element 44\n",
      "element 55\n",
      "First element 11\n",
      "Another element 3\n",
      "Another element 3\n",
      "Another element 3\n",
      "Another element 3\n",
      "Another element 3\n"
     ]
    },
    {
     "data": {
      "text/plain": [
       "()"
      ]
     },
     "execution_count": 6,
     "metadata": {},
     "output_type": "execute_result"
    }
   ],
   "source": [
    "let array = [ 11, 22, 33, 44, 55 ];\n",
    "\n",
    "for element in &array{ // element is in the scope of For-loop, cannot be seen outside of it\n",
    "    \n",
    "    println!( \"element {}\", element );\n",
    "}\n",
    "\n",
    "println!( \"First element {}\", array[ 0 ] ); // Accessing an element of the array through Indexing\n",
    "\n",
    "let newarray: [ i32; 5 ] = [ 5, 4, 3, 2, 1 ]; // Declaring an array, specifying its type and its size\n",
    "\n",
    "let anotherarray = [ 3; 5 ]; // Creates an array with 5 elements with value 3\n",
    "\n",
    "for element in &anotherarray{\n",
    "    \n",
    "    println!( \"Another element {}\", element );\n",
    "}"
   ]
  },
  {
   "cell_type": "markdown",
   "metadata": {
    "hidden": true
   },
   "source": [
    "One last thing about arrays: even though we can compile an out-of-bounds array element accessing, Rust will <b>panic</b> in the runtime. This is done so as to protect us against this kind of error, it is a form of <b>boundary checking</b> for memory-safety operations.\n",
    "\n",
    "Now, lets proceed to functions. The general syntax for function declaration is:"
   ]
  },
  {
   "cell_type": "code",
   "execution_count": 17,
   "metadata": {
    "hidden": true
   },
   "outputs": [
    {
     "name": "stdout",
     "output_type": "stream",
     "text": [
      "The value is: 1242\n",
      "Result is: 20\n"
     ]
    }
   ],
   "source": [
    "fn function_name( parameter: i32 ){ // The type of parameter MUST be annotated\n",
    "    \n",
    "    // do something\n",
    "    println!( \"The value is: {}\", parameter * 23 );\n",
    "}\n",
    "\n",
    "let argument: i32 = 54;\n",
    "\n",
    "function_name( argument ); // Calling the function\n",
    "\n",
    "fn many_parameters( first: i32, second: i32 ){ // Multiple parameters in a function\n",
    "    \n",
    "    let result: i32 = first * second;\n",
    "    \n",
    "    println!( \"Result is: {}\", result );\n",
    "}\n",
    "\n",
    "many_parameters( 5, 4 );"
   ]
  },
  {
   "cell_type": "markdown",
   "metadata": {
    "hidden": true
   },
   "source": [
    "Rust does not care where we define our function, as long as the declaration and definition are visible to the compiler.\n",
    "\n",
    "Have in mind one thing: the type of the parameters to a functions <b>MUST</b> be annotated! This is required so as to avoid making the compiler run everywhere else in the code so as to get enough information to be able to infer the type of the parameter. <b>ALWAYS ANNOTATE!</b>\n",
    "\n",
    "Lets change topics.\n",
    "\n",
    "Rust is <b>expression-based</b>. <b>Expressions</b> are evaluations that returns its values, while <b>Statements</b> are instructions without returns."
   ]
  },
  {
   "cell_type": "code",
   "execution_count": 14,
   "metadata": {
    "hidden": true
   },
   "outputs": [
    {
     "ename": "Error",
     "evalue": "`let` expressions in this position are experimental",
     "output_type": "error",
     "traceback": [
      "let variable = ( let another_variable = 6 ); ",
      "\u001b[91m                 ^^^^^^^^^^^^^^^^^^^^^^^^\u001b[0m \u001b[94m\u001b[0m",
      "`let` expressions in this position are experimental"
     ]
    },
    {
     "ename": "Error",
     "evalue": "expected expression, found statement (`let`)",
     "output_type": "error",
     "traceback": [
      "let variable = ( let another_variable = 6 ); ",
      "\u001b[91m                 ^^^^^^^^^^^^^^^^^^^^^^^^\u001b[0m \u001b[94m\u001b[0m",
      "expected expression, found statement (`let`)"
     ]
    },
    {
     "ename": "Error",
     "evalue": "unnecessary parentheses around assigned value",
     "output_type": "error",
     "traceback": [
      "let variable = ( let another_variable = 6 ); ",
      "\u001b[91m               ^^^^^^^^^^^^^^^^^^^^^^^^^^^^\u001b[0m \u001b[94m\u001b[0m",
      "unnecessary parentheses around assigned value"
     ]
    }
   ],
   "source": [
    "let mut statement: f64 = 3.14455745645; // LHS is a statement and the RHS is an expression\n",
    "\n",
    "fn statement_function( statement: f64, value: f64 ){ // Function definitions are also statements, but {} are expressions\n",
    "    \n",
    "    let result = statement + value;\n",
    "    \n",
    "    println!( \"Result is: {}\", result ); // This is an expression\n",
    "}\n",
    "\n",
    "statement_function( statement, 2.0 );\n",
    "\n",
    "// We can't do the following\n",
    "let variable = ( let another_variable = 6 ); // This is not an statement, nor valid at all"
   ]
  },
  {
   "cell_type": "markdown",
   "metadata": {
    "hidden": true
   },
   "source": [
    "Last line of code above will not work. <b>let</b> is a statement, therefore it returns nothing, so, since it returns nothing, using it at the Right Hand Side( RHS ) of an statement will give no value to be assigned to the Left Hand Side( LHS ) statement. This is not C++!\n",
    "\n",
    "Now, some examples of expressions: {}, number literals, function calls, <b>println!()</b>, and so on. Also, expressions do not include ending semicolons( KLABNIK, 2019 ). If you have an ending semicolon, you have a statement.\n",
    "\n",
    "About functions: functions in Rust come with <b>returning trailing type</b>, i.e., its return type is declared after the name and parameters' list. They have the following syntax:"
   ]
  },
  {
   "cell_type": "code",
   "execution_count": 15,
   "metadata": {
    "hidden": true
   },
   "outputs": [
    {
     "name": "stdout",
     "output_type": "stream",
     "text": [
      "Value is: 402\n"
     ]
    }
   ],
   "source": [
    "fn example( argument: i32 ) -> i32 { // -> i32 indicates that the function returns a value with type i32\n",
    "    \n",
    "    let return_value = 167 + argument;\n",
    "    \n",
    "    return_value + 1 // This will be implicitly returned from the function.\n",
    "                     // Notice that there are no semicolons here\n",
    "}\n",
    "\n",
    "let value = example( 234 ); // Here, we are using the value returning from example()\n",
    "\n",
    "println!( \"Value is: {}\", value );"
   ]
  },
  {
   "cell_type": "markdown",
   "metadata": {
    "hidden": true
   },
   "source": [
    "Return values are the values of the final expressions in a function. This is called <b>implicit return</b>. We could also return explicitly from a function by using the <b>return</b> keyword and specifying a value. But this is not usual. <b> DO NOT USE SEMICOLONS IN RETURN VALUES WHEN USING IMPLICIT RETURNING</b>, this will cause a compiler error.\n",
    "\n",
    "Lets proceed to <b>Control Flow</b>. Control flow allows us to let the program decide whether or not run some set of instructions and how many times it will run. An example of the first is an <b>if-else expression</b>. They have the following syntax:\n",
    "\n",
    "<b>if some_condition is true {\n",
    "    \n",
    "    // do something\n",
    "}\n",
    "    \n",
    "else {\n",
    "    \n",
    "    // do something else\n",
    "}</b>\n",
    "\n",
    "or\n",
    "\n",
    "<b>if some_condition is true {\n",
    "    \n",
    "    // do something\n",
    "}\n",
    "    \n",
    "else if another condition is true {\n",
    "    \n",
    "    // do something else\n",
    "}\n",
    "\n",
    "else{\n",
    "\n",
    "    // do a third thing\n",
    "}\n",
    "</b>\n",
    "\n",
    "where the conditions can be any expression which returns a <b>bool</b>, i.e., for which a truth value is disponible. If the condition is not a <b>bool</b>, then the compiler will complain, and it <b>will NOT try to implicitly convert a non-boolean to a boolean!</b> Each block of code correspondent to an <b>if-else</b> expression can be called an <b>arm</b> of that conditional. Do keep in mind one thing: <b>else</b> expressions are <b>OPTIONAL</b>, i.e., they can be ommited. Also, when we have many <b>else if</b> expressions, if our condition is true for any one of them, the other expressions <b>WILL NOT</b> be checked! E.g.:"
   ]
  },
  {
   "cell_type": "code",
   "execution_count": 3,
   "metadata": {
    "hidden": true
   },
   "outputs": [
    {
     "name": "stdout",
     "output_type": "stream",
     "text": [
      "Number is divisible by 3!\n"
     ]
    },
    {
     "data": {
      "text/plain": [
       "()"
      ]
     },
     "execution_count": 3,
     "metadata": {},
     "output_type": "execute_result"
    }
   ],
   "source": [
    "let number: i32 = 6;\n",
    "\n",
    "if number % 4 == 0{\n",
    "    \n",
    "    println!( \"Number is divisible by 4!\" );\n",
    "}\n",
    "\n",
    "else if number % 3 == 0{ // This will be true\n",
    "    \n",
    "    println!( \"Number is divisible by 3!\" );\n",
    "}\n",
    "\n",
    "else if number % 2 == 0{ // And, because of the above, this expression will not be executed nor checked\n",
    "    \n",
    "    println!( \"Number is divisible by 2!\" );\n",
    "}"
   ]
  },
  {
   "cell_type": "markdown",
   "metadata": {
    "hidden": true
   },
   "source": [
    "Did you notice that we keep calling an <b>if-else</b> expression over and over again? This is because it <b>returns</b> a value! So, we can use it at the RHS of, e.g., declarations using <b>let</b>. E.g.:"
   ]
  },
  {
   "cell_type": "code",
   "execution_count": 4,
   "metadata": {
    "hidden": true
   },
   "outputs": [
    {
     "name": "stdout",
     "output_type": "stream",
     "text": [
      "Example: 414\n"
     ]
    }
   ],
   "source": [
    "let value: bool = true;\n",
    "\n",
    "let example: i32 = if value { // Example will take the value of any arm from if-else\n",
    "                              // that happens to be true\n",
    "    \n",
    "    414 // 414 is i32\n",
    "}\n",
    "\n",
    "else {\n",
    "    \n",
    "    34 //  is i32\n",
    "};\n",
    "\n",
    "println!( \"Example: {}\", example );"
   ]
  },
  {
   "cell_type": "markdown",
   "metadata": {
    "hidden": true
   },
   "source": [
    "But, be careful: notice that <b>example</b> above is of <b>i32</b> type. Since we are passing a value from an <b>if-else</b> to it, all of the <b>arms</b> of the latter <b>must</b> be of the <b>SAME</b> type. Remember: Rust is statically typed, it MUST know the types of its variables at compile time. If an <b>if-else</b> were introduced in a form where it allowed for different returning types for each arm, and the choice of the arm happened at runtime, we woulb be violating what was stated above! \n",
    "\n",
    "Now, lets go back to the beginning of our loop! Loops are repetitions of a series of instructions. Whenever the end of the set is reached, the loop \"wraps around\" itself, and goes back to its beginning. \n",
    "\n",
    "In Rust, we have many forms of looping:"
   ]
  },
  {
   "cell_type": "code",
   "execution_count": null,
   "metadata": {
    "hidden": true
   },
   "outputs": [],
   "source": [
    "// Eternal loop, unless EXPLICITLY and forcibly stopped by, e.g., break.\n",
    "// Good to use in GUIs and programs where explicit closing is possible\n",
    "loop{ \n",
    "\n",
    "    println!( \"Eternal loop\" );\n",
    "    \n",
    "    // break; This will EXPLICITLY break out of the loop\n",
    "}"
   ]
  },
  {
   "cell_type": "markdown",
   "metadata": {
    "hidden": true
   },
   "source": [
    "Lets talk one more thing about <b>break</b> statements. We can, are you ready?, we can <b>RETURN VALUES</b> from it! E.g.:"
   ]
  },
  {
   "cell_type": "code",
   "execution_count": 8,
   "metadata": {
    "hidden": true
   },
   "outputs": [
    {
     "name": "stdout",
     "output_type": "stream",
     "text": [
      "Result is: 20\n"
     ]
    }
   ],
   "source": [
    "let mut counter: i32 = 0;\n",
    "\n",
    "let result = loop {\n",
    "    \n",
    "    counter += 1;\n",
    "    \n",
    "    if counter == 10 {\n",
    "        \n",
    "        break counter * 2; // This will return the value of counter * 2\n",
    "    }\n",
    "};\n",
    "\n",
    "println!( \"Result is: {}\", result );"
   ]
  },
  {
   "cell_type": "markdown",
   "metadata": {
    "hidden": true
   },
   "source": [
    "We also have <b>while</b> loops in Rust, i.e., conditional loops. Those loops alow us to be able to perform a set of instructions <b>until</b> some condition is not true anymore."
   ]
  },
  {
   "cell_type": "code",
   "execution_count": 10,
   "metadata": {
    "hidden": true
   },
   "outputs": [
    {
     "name": "stdout",
     "output_type": "stream",
     "text": [
      "3!\n",
      "2!\n",
      "1!\n"
     ]
    },
    {
     "data": {
      "text/plain": [
       "()"
      ]
     },
     "execution_count": 10,
     "metadata": {},
     "output_type": "execute_result"
    }
   ],
   "source": [
    "let mut value: i32 = 3;\n",
    "\n",
    "while value != 0 {\n",
    "    \n",
    "    println!( \"{}!\", value );\n",
    "    \n",
    "    value -= 1;\n",
    "}"
   ]
  },
  {
   "cell_type": "markdown",
   "metadata": {
    "hidden": true
   },
   "source": [
    "The last loop is the <b>for loop</b>. <b>for loop</b> in Rust is very similar to <b>range-for loop</b> in C++ and <b>for any element in collection</b> in Python. It performs some set of instructions for every element in a collection. It is a very good way of iterating over collections because, differently from <b>while loops</b>, it does not rely on <b>indexes</b>. Thus, it cannot, e.g., <b>overflow</b> a collection."
   ]
  },
  {
   "cell_type": "code",
   "execution_count": 14,
   "metadata": {
    "hidden": true
   },
   "outputs": [
    {
     "name": "stdout",
     "output_type": "stream",
     "text": [
      "The value is: 1\n",
      "The value is: 2\n",
      "The value is: 3\n",
      "The value is: 4\n",
      "The value is: 5\n",
      "Values in range: 4\n",
      "Values in range: 3\n",
      "Values in range: 2\n",
      "Values in range: 1\n"
     ]
    },
    {
     "data": {
      "text/plain": [
       "()"
      ]
     },
     "execution_count": 14,
     "metadata": {},
     "output_type": "execute_result"
    }
   ],
   "source": [
    "let collection: [ i32; 5 ] = [ 1, 2, 3, 4, 5 ];\n",
    "\n",
    "for elements in collection.iter( ) { // Notice that we used .iter(). That is so because for, like\n",
    "                                     // range-for in C++, relies on iterators!\n",
    "    \n",
    "    println!( \"The value is: {}\", elements );\n",
    "}\n",
    "\n",
    "for value in ( 1..5 ).rev( ) { // ( 1..5 ) defines a Range, a type in Rust that holds a sequence of elements\n",
    "    \n",
    "    println!( \"Values in range: {}\", value );\n",
    "}"
   ]
  },
  {
   "cell_type": "markdown",
   "metadata": {},
   "source": [
    "# Chapter 4 - Understanding Ownership\n",
    "\n",
    "Lets talk about <i>Ownership</i>.\n",
    "\n",
    "But, ownership of what, the <i>means of production</i>?\n",
    "\n",
    "No, <b>memory ownership!</b>\n",
    "\n",
    "## The Stack and the Heap\n",
    "\n",
    "Both <b>Stack</b> and <b>Heap</b> are parts of memory available to our code to use at runtime( KLABNIK, 2019 ). But...\n",
    "\n",
    "Remember you Algorithm and Data Structures class? No? Well, you should.\n",
    "\n",
    "<b>Stack Memory:</b> values are stored in order the stack gets them, as if it was putting each value \"on the top\" of each other. I.e., we get a first value x, put it on the stack. Then, we get a second value y, and put it \"on the top\" of x. When we are finished using x and y, we will clean the memory beginning from the value at the top of the stack, i.e., y. We call this <b>last in, first out</b>. Adding values to the stack is called <b>pushing onto the stack</b>, and doing so is less costly than pushing to the heap, because the place where the entity must be store is readily availabe( the top of the stack ). Whereas removing values from it is called <b>popping off the stack</b>. Data on the stack must have a fixed size know at compile time. Anything of unknown or <b>dynamic</b> size must be stored on the\n",
    "\n",
    "<b>Heap Memory:</b> in the <b>heap</b>, data is allocated in empty portions of memory, which must first be searched. The search must find a slot appropriate for the entity to be allocated on. This allocation, the size of the portion, varies according to the type of the entity that we are storing in memory. More specifically, this portion of memory will be just big enough to hold the entity. After allocating, the system marks the location where the entity was allocated as being used, and, then, returns a <b>Pointer</b>, i.e., the <b>memory address</b> of that location. Handling heap memory is called <b>allocating</b>.\n",
    "\n",
    "Some last things about heap memory: since the size of <b>pointer</b> is fixed and known, we can <b>store the pointer on the stack</b>. The <b>POINTER</b>, not the object being pointed by it! Whenever we need the value of the latter, we must follow the address given by the <b>pointer</b> into the heap memory, and, from there, get the value of the object. Following the address makes accessing heap memory slower than accessing stack data, because, besides finding the pointer, we must, as said, follow it, and then access the entity.\n",
    "\n",
    "Lets go talk about <b>ownership</b>.\n",
    "\n",
    "The main rule of <b>ownership</b> is:\n",
    "\n",
    "<i>from each according to his ability to each according to his need.</i>\n",
    "\n",
    "Nah, I am just messing around with you.\n",
    "\n",
    "The rules are, according to Klabnik:\n",
    "\n",
    "* Each value in Rust has an <b>owner</b>, i.e., a variable to which it is bound\n",
    "\n",
    "* A value can have only one <b>owner</b> at a time( this is confusing as hell, as we will see just in a mo )\n",
    "\n",
    "* <b>owner</b> out of scope? Value dropped\n",
    "\n",
    "But, what the hell is <i>scope</i>? Is it another Marxist's joke?\n",
    "\n",
    "No.\n",
    "\n",
    "Seriously, no.\n",
    "\n",
    "<b>scope</b> is what determines the lifetime of an entity in a program. It is its range of validity within the program. E.g.:"
   ]
  },
  {
   "cell_type": "code",
   "execution_count": 2,
   "metadata": {
    "ExecuteTime": {
     "end_time": "2020-06-10T21:48:12.613963900+00:00",
     "start_time": "2020-06-10T21:48:00.920Z"
    },
    "collapsed": true
   },
   "outputs": [
    {
     "ename": "Error",
     "evalue": "cannot find value `out_of_scope` in this scope",
     "output_type": "error",
     "traceback": [
      "println!( \"Error! Cannot access out_of_scope: {}\", out_of_scope );",
      "\u001b[91m                                                   ^^^^^^^^^^^^\u001b[0m \u001b[94mnot found in this scope\u001b[0m",
      "cannot find value `out_of_scope` in this scope"
     ]
    }
   ],
   "source": [
    "fn just_a_test( ){\n",
    "    \n",
    "    let out_of_scope: i32 = 546;\n",
    "}                                  // out_of_scope lifetime ends here\n",
    "\n",
    "println!( \"Error! Cannot access out_of_scope: {}\", out_of_scope ); // out_of_scope is out of scope here"
   ]
  },
  {
   "cell_type": "markdown",
   "metadata": {},
   "source": [
    "Rule of thumb for scopes: search for the nearest outer curly braces!\n",
    "\n",
    "According to Klabnik, for the most basic data types in Rust, those types are allocated on the stack, and they are popped off the stack as soon as their scope is over. The point here is: there is a relation between scope, lifetime and location of allocation, i.e., stack or heap.\n",
    "\n",
    "But, what of other, complex, data types. Types, e.g., that are not allocated on the heap?\n",
    "\n",
    "To answer that, let us take a look on the type <b>String</b>. This is a type that free us from handling <b>string literals</b>, i.e., harcoded text. <b>string literals</b> are immutable, and must have its value determined at compile time. This means that we cannot use <b>string literals</b> to hold user input."
   ]
  },
  {
   "cell_type": "code",
   "execution_count": 18,
   "metadata": {
    "ExecuteTime": {
     "end_time": "2020-06-11T15:32:12.889745900+00:00",
     "start_time": "2020-06-11T15:32:10.557Z"
    }
   },
   "outputs": [
    {
     "name": "stdout",
     "output_type": "stream",
     "text": [
      "taking text from a string literal\n",
      "Is this text mutable? It seems so.\n"
     ]
    }
   ],
   "source": [
    "let some_string: String = String::from( \"taking text from a string literal\" );\n",
    "\n",
    "println!( \"{}\", some_string );\n",
    "\n",
    "let mut mutable_string: String = String::from( \"Is this text \" ); // String allows for mutability\n",
    "\n",
    "mutable_string.push_str( \"mutable? It seems so.\" ); // See? Mu-ta-ble!\n",
    "\n",
    "println!( \"{}\", mutable_string );"
   ]
  },
  {
   "cell_type": "markdown",
   "metadata": {},
   "source": [
    "The double collon <b>::</b> operator in <b>String::from</b> is used to <b>open a namespace</b> and expose the functions and types in its scope, i.e., bring them into our scope. Here, for example, we are bringing <b>::from()</b> into our scope. The behavior is very similar to that of <b>::</b> that we have in C++.\n",
    "\n",
    "Ok, ok, ok. Let me ask you: what determines mutability? Please, no smartass answer, like \"the word <b>mut</b>, duh.\"\n",
    "\n",
    "Well, according to Klabnik, mutability depends on how a type deals with memory. For mutability to be possible, we need to be able to allocate an <i>unknown</i> quantity of memory at runtime, and, as a consequence of that, to be able to deallocate, i.e., release this memory after we are done with it. \n",
    "\n",
    "From these conditions, what part of memory you think we will be handling? Yep, the <b>heap</b>.\n",
    "\n",
    "Now, how can we allocate memory? Simple: we just create entities. Memory will be allocated at the creation point. But, what about the not so simple part, i.e., how the hell we DEALLOCATE memory? Remember dynamic allocation in C++? Using <b>new</b> to allocate on the heap, and, thereafter, having to explicitly call <b>delete</b> to deallocate memory? What if we, and we often do, forget to call it? Hmm....\n",
    "\n",
    "Fear not, my fellow Rustawan, or PadaRust, you choose. This is NOT C++!\n",
    "\n",
    "Remeber that there is a relation between scope, lifetime, and loc of alloc, as said above? Focus on the scope-lifetime part of it. In Rust, <i>memory will be</i> <b>automagically</b> free as soon as the entity associated to it, i.e., the entity that requested memory from the system so as to be able to hold a value, <b>goes out of scope</b>. The ideia here is similar to a good idea in C++, i.e., <b>RAII</b>, or Resource Acquisition Is Initialization. Acquire at the start, free at the end, where the end is the lifetime end. At the end of an entity's lifetime, Rust calls <b>drop</b>, which will free, release, the memory used by the entity.\n",
    "\n",
    "<b>Open question:</b> Is this efficient? I mean, what if we are holding the object after a point where we do really not need it anymore? Cannot we, just, e.g., forcibily disappear with it? At this point, I cannot answer any of these questions, because I simply do not know any benchmarks, papers, or anything exploring them. But I digress.\n",
    "\n",
    "Back to <b>String</b>, consider:"
   ]
  },
  {
   "cell_type": "code",
   "execution_count": 3,
   "metadata": {},
   "outputs": [
    {
     "ename": "Error",
     "evalue": "borrow of moved value: `first`",
     "output_type": "error",
     "traceback": [
      "let mut second: String = first;",
      "\u001b[91m                         ^^^^^\u001b[0m \u001b[94mvalue moved here\u001b[0m",
      "println!( \"First is: {}\", first );",
      "\u001b[91m                          ^^^^^\u001b[0m \u001b[94mvalue borrowed here after move\u001b[0m",
      "let mut first: String = String::from( \"test\" );",
      "\u001b[91m    ^^^^^^^^^\u001b[0m \u001b[94mmove occurs because `first` has type `std::string::String`, which does not implement the `Copy` trait\u001b[0m",
      "borrow of moved value: `first`"
     ]
    }
   ],
   "source": [
    "let mut first: String = String::from( \"test\" );\n",
    "\n",
    "let mut second: String = first;\n",
    "\n",
    "println!( \"First is: {}\", first );\n",
    "\n",
    "println!( \"Second is: {}\", second );\n",
    "\n",
    "first = String::from( \"Change of value\" );\n",
    "\n",
    "println!( \"Second is: {}\", second );"
   ]
  },
  {
   "cell_type": "markdown",
   "metadata": {},
   "source": [
    "Strange, is it not? How does this compares with the example given way above, where, when handling containers, it was shown that copy and assignment are made by value, and not by reference?\n",
    "\n",
    "\n",
    "I do not know how far, or even if you have actually fared into C++ or Python. But, fear not, we will explore this problem further here.\n",
    "\n",
    "Why <b>second</b> is not simply copying the contents of <b>first</b> and passing it to another part of the memory, so as to make its own instance of the copied content, which is unrelated to <b>first</b>? Before answering, we will see motivation behind the question why it matters.\n",
    "\n",
    "The motivation is given by the different behaviors themselves. Why, like in Python, entities of some types are handled differently by the language? Why the mere fact that an entity is of some type, instead of another, changes a basic behavior of the language? All these questions, if you want to research further, are related to <b>variable binding, data binding,</b> and <b>ownership</b>. More specifically in Rust, we also are bringing to the table the concept of <b>borrowing</b>.\n",
    "\n",
    "Think of types not merely as representations and data, but also as interfaces, and think about how those interfaces are implemented.\n",
    "\n",
    "About the answer, well, it lies in how is <b>String</b>, and, more generaly, types, are handled by memory and implemented in Rust. Before we proceed, remember, we have <b>heap</b> and <b>stack</b>.\n",
    "\n",
    "In Rust, <b>String</b> is made up of a <b>pointer</b>, a <b>length</b>, and a <b>capacity</b>. All three are stored in the <b>stack</b>. But, the <b>pointer</b>, even though in the stack, points to a memory in the <b>heap</b>. What do you think would happen if we created another instance of <b>String</b> and assigned to it another existing <b>String</b>?\n",
    "\n",
    "The standard answer is: we would be assigning to this new instance the same states of the data members of the previous instance. I.e., we would be \"checking the values\" of each data member, \"getting\" these values, and putting them into the data members of the new instance.\n",
    "\n",
    "The thing is: one of those data members is a <b>pointer</b>. Its states, or values, are <b>addresses</b> to locations in mmemory large enough to fit an entity of the type handled by the pointer. When we copy a pointer, i.e., we are copying the <b>address</b> in memory pointed by the pointer, and not the states or values of the entity in this memory address. So, this new instance of <b>String</b> will handle the same, yes, the <b>SAME</b>, address and content of the previous instance. \n",
    "\n",
    "Notice one thing: I used the word <b>previous</b> instead of existing. That is because there is a potential problem with the presented behavior. If two instances are handling the very same resource through a pointer, and given that pointers' resources must be freed when the instances go out of scope, whatever instance is freed first, we will inevitably, when freeing the late instance, be freeing an <b>already freed memory</b>. This is known as <i>double free</i> error, and Rust handles it by what we call a <b>move</b> in C++. Whenever the second instance gets its value from the first, the latter is set into an invalid state, and is not considered to be an owner of the resource anymore, meaning that the second instance is the sole owner of the resource now. This frees( no pun intended ) Rust from the obligation to free the memory allocated for the first instance, and, thus, avoid the <i>double free</i> error. Also, <i>moving</i> is way cheaper than </i>deep copy</i>, because, well, it simply does not perform all the operations required to copy each data member of a type. It just \"gives\" the states to the new instance.\n",
    "\n",
    "So: the type of data members and its interfaces. Care about that. This is what will determine what kind of behavior we will have when performing some operations, and, from this behavior, we can at least have a good guess of what a type is doing under the hood.\n",
    "\n",
    "By default, Rust does not performs <b>deep copies</b>. I.e., it will not copy all the states of the data members of a type. But, if we DO want it, we might do so by using <b>.clone()</b>, which must be provided by the type we wanto to copy. Also, we have <b>Copy</b> and <b>Drop</b> traits to signal whether we can perform <b>deep copy</b> or <b>move</b> on a type. <b>Drop</b> signal a no for <b>Deep Copy</b>. "
   ]
  },
  {
   "cell_type": "code",
   "execution_count": 7,
   "metadata": {},
   "outputs": [
    {
     "name": "stdout",
     "output_type": "stream",
     "text": [
      "First: test\n",
      "Second: test\n",
      "New first: new test\n",
      "Secong again: test\n"
     ]
    }
   ],
   "source": [
    "let mut first: String = String::from( \"test\" );\n",
    "let mut second: String = first.clone( );\n",
    "\n",
    "println!( \"First: {}\", first );\n",
    "\n",
    "println!( \"Second: {}\", second );\n",
    "\n",
    "first = String::from( \"new test\" );\n",
    "\n",
    "println!( \"New first: {}\", first );\n",
    "\n",
    "println!( \"Secong again: {}\", second );"
   ]
  },
  {
   "cell_type": "markdown",
   "metadata": {},
   "source": [
    "When asking if this discussion matters for functions, either as we specify a parameter and see how it affects the argument passed to it, or as we return a value, the answer is yes. Argument passing and value returning can transfer <b>ownership</b> of entities.\n",
    "\n",
    "Differently from C++, where functions can only control the states of its parameters or entities declared within it, in Rust, function can also control the lifetime of its parameters! In Rust, whenever an argument is passed as a parameter for a function, the lifetime of this argument is now bound to the function's lifetime, unless the argument is returned to an outer scope after the function is done with it.\n",
    "\n",
    "When we return from a function, independently from whether the value returned was created within the function or was the argument passed to it, the ownership of this returned value remains with the last entity to which it was assigned to, be it an entity from the function of from outside it.\n",
    "\n",
    "One last thing: Rust allows for \"returning multiple values\" by returning a tuple from a function.\n",
    "\n",
    "<b>Open question:</b> what is ownership about? Is it about who owns what in which scope? I ask this because there is a relation between scoping and resource/value ownership. E.g., in <b>Ownership and Function, p.68</b>, Klabnik gives an example where a function takes an argument, and, when the function ends, even though the argument was an entity declared in an outer scope, its lifetime ended with the function. The function took ownership not only of the values the entity was holding, but of the lifetime of the latter as well.\n",
    "\n",
    "<b>Open question:</b> does allocating on the <b>heap</b> or the <b>stack</b> influence on whether we perform a <b>move</b> or a <b>deep/shallow copy</b>?\n",
    "\n",
    "Still about ownership and argument passing, is it possible to pass an argument as a parameter to a function <b>WITHOUT</b> passing its ownership togheter? Yes, it is. Just pass it as a <b>reference</b> using **&**. This will <b>NOT</b> transfer the ownership that an entity has over its resources to the function when this entity is passed as an argument to a parameter. Consequently, this entity will <b>REMAIN</b> valid after the function used it, unless the function has explictly put it into an invalid state. Even so, the entity will exit the function in an invalid state, instead of having its lifetime ended with the function. The point here is: not passing ownership implies not binding its lifetime to another scope!\n",
    "\n",
    "\n",
    "    \n"
   ]
  },
  {
   "cell_type": "code",
   "execution_count": 8,
   "metadata": {},
   "outputs": [
    {
     "name": "stdout",
     "output_type": "stream",
     "text": [
      "The length of 'example' is 7\n"
     ]
    }
   ],
   "source": [
    "let text: String = String::from( \"example\" );\n",
    "\n",
    "fn calculate_length( entity: &String ) -> usize { // Here, the ownership of text over its resources will not\n",
    "                                                  // be transferred to calculate_length. It will remain valid\n",
    "    \n",
    "    entity.len( )\n",
    "}\n",
    "\n",
    "let length: usize = calculate_length( &text );    // after this point\n",
    "\n",
    "println!( \"The length of '{ }' is { }\", text, length );"
   ]
  },
  {
   "cell_type": "markdown",
   "metadata": {},
   "source": [
    "But, this raises a question: why passing by reference does not mess around with lifetime? Is the reference itself a signal for the compiler not to transfer ownership from an entity to another, and, thus, not to change the lifetimes of an entity? I.e., why not passing by reference transfer ownership? Well, I do not know.\n",
    "\n",
    "We have references. Can we also <i>dereference</i> something? Yep, just use <b>*</b> to do that.\n",
    "\n",
    "<b>A note:</b> in C++, when handling two entities A and B, making B refer to A gives B a <b>shared ownership</b> of the resources handled by A. This means that B can also control the <b>very same</b> resources as A. This is semantically different from what references do in Rust, even though the behavior of references in function, both for C++ and Rust, are in effect the same. The point here is: in C++, references from entity to entity promotes a sharing of ownerships. In Rust, references in function parameters guarantees and maintains exclusivity over ownership, i.e., it is a way for we <b>not</b> to transfer ownerships. Yes, references from entity to entity with references on functions are <b>not</b> the same thing, but we are yet to see how the first case works in Rust. Just keep this in mind, because semantics matters.\n",
    "\n",
    "To see this more clearly: in C++, when we pass an argument to a parameter that is not a reference, the entity passed as argument has its value copied into another entity of the same type. Anything that the function does will affect this copy, not the original entity. The lifetime of the copy ends with the function, whereas the base entity remain alive after the function end. When we pass by reference in C++, we allow for the function to handle directly the argument entity itself. But, as said before, even though we can change the state of the entity, we cannot change its lifetime. So, even if invalid, the entity will exit the function \"alive\". In Rust, passing by reference passes the entity itself, just as in C++, but, it will also signal a \"do not mess with this entity's lifetime\" to the function. I.e., in Rust, there is more to references than just resources!\n",
    "\n",
    "Remember I said returning is a way of controlling ownership? Well, if we pass an argument by reference, so as not to change its ownership over its own resources, we do <b>not</b> need to return its ownership to itself after the function is done with it! The ownership was never changed, to begin with!\n",
    "\n",
    "Having references as function parameters is called <b>Borrowing</b>. \n",
    "\n",
    "But, this raises a question regarding references and mutability: do references changes the mutable status of an entity? I.e., if we create, in a function, a parameter borrowing from a reference, can we change it without changing the entity passed as argument to <b>mut</b>?\n",
    "\n",
    "No, we cannot. References will not change mutability. If we want to mutate an argument passed as a parameter, we must both let the parameter take a mutable reference, and let the entity passed as argument be mutable. I.e.:"
   ]
  },
  {
   "cell_type": "code",
   "execution_count": 4,
   "metadata": {},
   "outputs": [
    {
     "name": "stdout",
     "output_type": "stream",
     "text": [
      "Mutable text\n"
     ]
    }
   ],
   "source": [
    "let mut test: String = String::from( \"Mutable \" );\n",
    "\n",
    "fn change( some_string: &mut String ) { // The parameter is mutable\n",
    "    \n",
    "    some_string.push_str( \"text\" );\n",
    "}\n",
    "\n",
    "change( &mut test ); // We also have to pass mut to the function\n",
    "\n",
    "println!( \"{}\", test );"
   ]
  },
  {
   "cell_type": "code",
   "execution_count": 6,
   "metadata": {},
   "outputs": [
    {
     "ename": "Error",
     "evalue": "cannot borrow `some_string` as mutable, as it is not declared as mutable",
     "output_type": "error",
     "traceback": [
      "    some_string.push_str( \"text\" ); // This will not work",
      "\u001b[91m    ^^^^^^^^^^^\u001b[0m \u001b[94mcannot borrow as mutable\u001b[0m",
      "cannot borrow `some_string` as mutable, as it is not declared as mutable"
     ]
    },
    {
     "ename": "Error",
     "evalue": "borrow of moved value: `test`",
     "output_type": "error",
     "traceback": [
      "change( test ); ",
      "\u001b[91m        ^^^^\u001b[0m \u001b[94mvalue moved here\u001b[0m",
      "println!( \"{}\", test );",
      "\u001b[91m                ^^^^\u001b[0m \u001b[94mvalue borrowed here after move\u001b[0m",
      "let mut test: String = String::from( \"Mutable \" );",
      "\u001b[91m    ^^^^^^^^\u001b[0m \u001b[94mmove occurs because `test` has type `std::string::String`, which does not implement the `Copy` trait\u001b[0m",
      "borrow of moved value: `test`"
     ]
    }
   ],
   "source": [
    "let mut test: String = String::from( \"Mutable \" );\n",
    "\n",
    "fn change( some_string: String ) {\n",
    "    \n",
    "    some_string.push_str( \"text\" ); // This will not work\n",
    "}\n",
    "\n",
    "change( test ); // This will not work\n",
    "\n",
    "println!( \"{}\", test );"
   ]
  },
  {
   "cell_type": "markdown",
   "metadata": {},
   "source": [
    "But, keep one thing in mind: Rust allows for <b>only one mutable</b> borrow/alias, i.e., reference to an entity, for each scope in which the entity and its alias are in."
   ]
  },
  {
   "cell_type": "code",
   "execution_count": 16,
   "metadata": {},
   "outputs": [
    {
     "ename": "Error",
     "evalue": "cannot borrow `entity` as mutable more than once at a time",
     "output_type": "error",
     "traceback": [
      "    let first = &mut entity;",
      "\u001b[91m                ^^^^^^^^^^^\u001b[0m \u001b[94mfirst mutable borrow occurs here\u001b[0m",
      "    let second = &mut entity; // This is not allowed. Second mutable borrow/alias from the same entity",
      "\u001b[91m                 ^^^^^^^^^^^\u001b[0m \u001b[94msecond mutable borrow occurs here\u001b[0m",
      "    println!( \"{}, {}\", first, second );",
      "\u001b[91m                        ^^^^^\u001b[0m \u001b[94mfirst borrow later used here\u001b[0m",
      "cannot borrow `entity` as mutable more than once at a time"
     ]
    }
   ],
   "source": [
    "fn main( ) {\n",
    "    \n",
    "    let mut entity: String = String::from( \"Text\" );\n",
    "\n",
    "    let first = &mut entity;\n",
    "    let second = &mut entity; // This is not allowed. Second mutable borrow/alias from the same entity\n",
    "\n",
    "    println!( \"{}, {}\", first, second );\n",
    "}\n",
    "\n",
    "main( );"
   ]
  },
  {
   "cell_type": "code",
   "execution_count": 19,
   "metadata": {},
   "outputs": [
    {
     "name": "stdout",
     "output_type": "stream",
     "text": [
      "Text\n",
      "Text\n"
     ]
    }
   ],
   "source": [
    "// We might not introduced two mutable references in the same scope\n",
    "// But we can do that in DIFFERENT scopes\n",
    "\n",
    "fn main( ) {\n",
    "    \n",
    "    let mut entity: String = String::from( \"Text\" );\n",
    "\n",
    "    {\n",
    "        let first = &mut entity; // But this IS allowed\n",
    "        \n",
    "        println!( \"{}\", first );\n",
    "    }\n",
    "    \n",
    "    let second = &mut entity; // And this is ALSO allowed\n",
    "\n",
    "    println!( \"{}\", second );\n",
    "}\n",
    "\n",
    "main( );"
   ]
  },
  {
   "cell_type": "markdown",
   "metadata": {},
   "source": [
    "According to Klabnik( 2019 ), this restriction of one mutable borrow/alias per entity in each scope, i.e., one borrow/reference per entity, helps preventing <b>Data Races</b> at compile time. Klabnik( 2019 ) describes three behaviors that characterizes data race, be them:\n",
    "\n",
    "1. Two or more pointers are accessing the same data at the same time\n",
    "\n",
    "2. At least one point is being used to write to the data\n",
    "\n",
    "3. No mechanisms to synchronize access to the data\n",
    "\n",
    "As said, Rust helps preventing data races by identifying and not compiling them at all!\n",
    "\n",
    "<b>Open question:</b> how does one borrow/alias per scope restricts data races? What does the borrowing/aliasing do to the original entity when it is executed in code? Does it leave the original entity in an invalid state or does it synchronizes the changes between the borrower/alias and the original entity?\n",
    "\n",
    "Just, lets go a little back to scoping. How does things behave when we are not handling mutable references/borrows/alias? Also, what do we get when we have immutable borrows TOGETHER with mutable borrows?"
   ]
  },
  {
   "cell_type": "code",
   "execution_count": 3,
   "metadata": {},
   "outputs": [
    {
     "ename": "Error",
     "evalue": "cannot borrow `entity` as mutable because it is also borrowed as immutable",
     "output_type": "error",
     "traceback": [
      "    let third = &mut entity;",
      "\u001b[91m                ^^^^^^^^^^^\u001b[0m \u001b[94mmutable borrow occurs here\u001b[0m",
      "    let first = &entity;",
      "\u001b[91m                ^^^^^^^\u001b[0m \u001b[94mimmutable borrow occurs here\u001b[0m",
      "    println!( \"{}, {}, and {}\", first, second, third );",
      "\u001b[91m                                ^^^^^\u001b[0m \u001b[94mimmutable borrow later used here\u001b[0m",
      "cannot borrow `entity` as mutable because it is also borrowed as immutable"
     ]
    }
   ],
   "source": [
    "fn main( ) {\n",
    "    \n",
    "    let mut entity: String = String::from( \"Example\" );\n",
    "    \n",
    "    let first = &entity; // This is ok\n",
    "    let second = &entity; // This is ok\n",
    "    let third = &mut entity; // STRANGER DANGER\n",
    "    \n",
    "    println!( \"{}, {}, and {}\", first, second, third );\n",
    "}\n",
    "\n",
    "main( );"
   ]
  },
  {
   "cell_type": "markdown",
   "metadata": {},
   "source": [
    "As we have seen, it is not possible to create mutable and immutable borrows for the same entity. I.e., borrowing as mutable precludes borrowing as immutable, and vice-versa. According to Klabnik( 2019 ), this is so because whoever is handling an immutable reference is not expecting sudden changes of value. Consistency!\n",
    "\n",
    "<b>Open question:</b> Why borrow all? What is the point of creating another entity to handle the very same data that an existing entity already handles? Well, consider that \"the very same data\" means the same memory address and the resources held in it. What are the advantages, to us, of having something implementing this behavior?\n",
    "\n",
    "Still about references, Rust does not allows for <b>dangling references</b>, i.e., references to invalid entities, where this invalidity comes from freed memory address. The language does not allows for references to, e.g., entities whose lifetime ended before the creation of the reference. See the following code:"
   ]
  },
  {
   "cell_type": "code",
   "execution_count": 5,
   "metadata": {},
   "outputs": [
    {
     "ename": "Error",
     "evalue": "missing lifetime specifier",
     "output_type": "error",
     "traceback": [
      "fn dangle( ) -> &String {",
      "\u001b[91m                ^\u001b[0m \u001b[94m\u001b[0m",
      "missing lifetime specifier"
     ]
    }
   ],
   "source": [
    "// Run this code in your IDE or terminal\n",
    "\n",
    "fn dangle( ) -> &String {\n",
    "    \n",
    "    let dangling_text: String = String::from( \"Dangler\" ); // Returning a string...\n",
    "    \n",
    "    &dangling_text\n",
    "}                                                         // whose lifetime ends here\n",
    "\n",
    "let problem: String = dangle( ); // Insert Buzzlightyear \"Hmm...\" meme here"
   ]
  },
  {
   "cell_type": "code",
   "execution_count": 6,
   "metadata": {},
   "outputs": [
    {
     "name": "stdout",
     "output_type": "stream",
     "text": [
      "Trust me!\n"
     ]
    }
   ],
   "source": [
    "fn no_dangle( ) -> String { // Returning just a string, not a reference to one\n",
    "    \n",
    "    let im_ok: String = String::from( \"Trust me!\" );\n",
    "    \n",
    "    im_ok                   // the value, not the memory address!\n",
    "}                           // im_ok dies here, but its value will be kept in our hearts( variables )\n",
    "\n",
    "let this_is_fine: String = no_dangle( );\n",
    "\n",
    "println!( \"{}\", this_is_fine );"
   ]
  },
  {
   "cell_type": "markdown",
   "metadata": {},
   "source": [
    "So, Klabnik proposes two rules of References:\n",
    "\n",
    "1. One mutable reference XOR many immutable references\n",
    "\n",
    "2. References must always be valid( Klabnik, 2019 )\n",
    "\n",
    "<b>Remember:</b> Rust, by design, synchronizes the behavior of ownership, lifetime, and borrowing. The language was designed so as to promote coherence between these factors. Its features WILL reflect this coherence.\n",
    "\n",
    "Now, lets consider the following problem: how would we proceed to find and return a word from a <b>String</b>? Lets try a little bit."
   ]
  },
  {
   "cell_type": "code",
   "execution_count": null,
   "metadata": {},
   "outputs": [],
   "source": [
    "fn first_word( text: &String ) -> usize {\n",
    "    \n",
    "    let bytes = text.as_bytes( ); // This converts a String to an array of bytes\n",
    "    \n",
    "    for ( index, &item ) in bytes.iter( ).enumerate( ) { // This iterates over all tuples ( index, &item ) provided by\n",
    "                                                         // .enumerate(), which is a wrap around iter.(), where the\n",
    "                                                         // latter returns each element in a sequence. Keep in mind:\n",
    "                                                         // .enumerate( ) returns tuples for every element in a sequen\n",
    "                                                         // provided by .iter(), each tuple has an index as first ele\n",
    "                                                         // ment and the item in the position indicated by the index\n",
    "        \n",
    "        if item == b' ' { // b is a syntax for obtaining a byte literal. It returns a byte representing the given\n",
    "                          // element. Here, this element is a space ' '\n",
    "            \n",
    "            return index; // returns the index corresponding to an space, which marks the end of words\n",
    "        }\n",
    "    }\n",
    "    \n",
    "    text.len( )\n",
    "}"
   ]
  },
  {
   "cell_type": "markdown",
   "metadata": {},
   "source": []
  }
 ],
 "metadata": {
  "kernelspec": {
   "display_name": "Rust",
   "language": "rust",
   "name": "rust"
  },
  "language_info": {
   "codemirror_mode": "rust",
   "file_extension": ".rs",
   "mimetype": "text/rust",
   "name": "Rust",
   "pygment_lexer": "rust",
   "version": ""
  },
  "toc": {
   "base_numbering": 1,
   "nav_menu": {},
   "number_sections": true,
   "sideBar": true,
   "skip_h1_title": false,
   "title_cell": "Table of Contents",
   "title_sidebar": "Contents",
   "toc_cell": false,
   "toc_position": {},
   "toc_section_display": true,
   "toc_window_display": false
  }
 },
 "nbformat": 4,
 "nbformat_minor": 4
}
