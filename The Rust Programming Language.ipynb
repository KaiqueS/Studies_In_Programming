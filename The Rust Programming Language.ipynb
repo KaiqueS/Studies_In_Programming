{
 "cells": [
  {
   "cell_type": "markdown",
   "metadata": {},
   "source": [
    "# The Rust Programming Language\n",
    "\n",
    "## Chapter 1 - Gertting Started\n",
    "\n",
    "<b>Note:</b> if you are trying to set up VS Code for Rust, things are quite messy to begin with. Use the extension Rust-Analyzer and Better-Toml. Set up a Cargo.toml file with at least the following code\n",
    "\n",
    "[package]\n",
    "\n",
    "name = \"name_of_file.exe\"\n",
    "\n",
    "version = \"0.0.1\"\n",
    "\n",
    "authors = [ \"Your_name\" ]\n",
    "\n",
    "Then, proceed to create a src folder, and put your main.rs file in it. Run <b>cargo build</b>, and wait for it to finish buildind. After that, run <b>cargo run</b> and the file should be executed.\n",
    "\n",
    "To run it normally through VS Code, select <b>start without debugging</b>, and select a C++ compiler to generate a json file. Add the path to your executable at the appropriate field, save it, and run the file normally through VS code."
   ]
  },
  {
   "cell_type": "code",
   "execution_count": 4,
   "metadata": {},
   "outputs": [
    {
     "name": "stdout",
     "output_type": "stream",
     "text": [
      "Hello, World!\n"
     ]
    }
   ],
   "source": [
    "fn main( ){\n",
    "    \n",
    "    println!( \"Hello, World!\" ); // because of the !, println!() calls a macro\n",
    "                                 // Also, notice the ; to indicate end of line\n",
    "}\n",
    "\n",
    "main( );"
   ]
  },
  {
   "cell_type": "markdown",
   "metadata": {},
   "source": [
    "As in C++, <b>main()</b> function in Rust is the first code that in any executable program( almost literal transcription from the book ). \n",
    "\n",
    "The syntax for function declaration in Rust goes as follows:"
   ]
  },
  {
   "cell_type": "code",
   "execution_count": null,
   "metadata": {},
   "outputs": [],
   "source": [
    "fn function_name( /*parameters*/ ) {\n",
    "    \n",
    "    // do something\n",
    "}"
   ]
  },
  {
   "cell_type": "markdown",
   "metadata": {},
   "source": [
    "I.e., we have the keyword <b>fn</b>, the function name and the enclosing brackets, which determines the function body and opens an inner scope.\n",
    "\n",
    "Code, in Rust, is indented with four spaces, not tabs! And lines end with <b>;</b>.\n",
    "\n",
    "<b>Attention</b> to one very important thing:\n",
    "\n",
    "&ensp;&ensp;&ensp;Code in Rust is <b>COMPILED</b>, while this Jupyter Notebook is interpreted and runs in many ways like a REPL. To run the code present here in an IDE or Editor, we must <b>compile</b> it. To do so, we must open our bash or command prompt, go to the folder where our code is in, and call the Rust compiler with the command <b>rustc file_name.rs</b>. After compiling, there will be a binary executable as an output. To run this output, and, thus, execute the program, on Linux we must **./**<b>file_name</b>, where on Windows we must <b>.\\file_name.exe</b>. Anyway, refer to pages 6-7 to see how to proceed.\n",
    "\n",
    "Rust's build system and package manager is <b>Cargo</b>. With it, we can build our own codes and download libraries, read dependencies, that can be used in them. The rest of the book will assume that we have Cargon installed. But, <b>REMEMBER</b>, this, here, is a Jupyter Notebook Rust Kernel! Codes here will be tested beforehand on Rust's compiler, i.e., out of here. So, be sure to install both Rust compiler and Cargo on your system too!\n",
    "\n",
    "To build a project with cargo, run the following commands on bash:"
   ]
  },
  {
   "cell_type": "code",
   "execution_count": null,
   "metadata": {},
   "outputs": [],
   "source": [
    "cargo new project_name // this command will not run here, since this is not exactly Rust code"
   ]
  },
  {
   "cell_type": "markdown",
   "metadata": {},
   "source": [
    "This will create a folder named <b>project_name</b>. Inside it, there will be two files and a directory in it:\n",
    "\n",
    "    a Cargo.toml file, and\n",
    "    a .gitignore file, and\n",
    "    a src directory containing a main.rs file with a \"Hello, World!\" code in it.\n",
    "\n",
    "<b>Personal Note</b>: those steps are VERY IMPORTANT when using Rust with IDEs or Editors. With Visual Studio Code, when setting up a Rust workspace, it is better if we, beforehand, use Cargo to build a new project, and, then, use this project directory as a workspace for Rust, at least for the project that we will work on at the time. This is so because VS Code, for it to work with Rust, will require some extensions that will only work if a Cargo.toml file is already present in the workspace.\n",
    "\n",
    "After creating this folder, access it through your bash or command prompt and run"
   ]
  },
  {
   "cell_type": "code",
   "execution_count": null,
   "metadata": {},
   "outputs": [],
   "source": [
    "cargo build // this command will not run here, since this is not exactly Rust code"
   ]
  },
  {
   "cell_type": "markdown",
   "metadata": {},
   "source": [
    "This command will create a new <i>Cargo.lock</i> file, which keeps track of the versions of the dependencies in our projects, and will create an executable in another folder in the same directory and will . To run it, do"
   ]
  },
  {
   "cell_type": "code",
   "execution_count": null,
   "metadata": {},
   "outputs": [],
   "source": [
    "./target/debug/program_name or .\\target\\debug\\program_name.exe // these commands will not run here, \n",
    "                                                               // since this is not exactly Rust code"
   ]
  },
  {
   "cell_type": "markdown",
   "metadata": {},
   "source": [
    "We can also use"
   ]
  },
  {
   "cell_type": "code",
   "execution_count": null,
   "metadata": {},
   "outputs": [],
   "source": [
    "cargon run // this command will not run here, since this is not exactly Rust code"
   ]
  },
  {
   "cell_type": "markdown",
   "metadata": {},
   "source": [
    "to both compile and run the executable.\n",
    "\n",
    "In contrast"
   ]
  },
  {
   "cell_type": "code",
   "execution_count": null,
   "metadata": {},
   "outputs": [],
   "source": [
    "cargo check // this command will not run here, since this is not exactly Rust code"
   ]
  },
  {
   "cell_type": "markdown",
   "metadata": {},
   "source": [
    "Checks if a code is compilable, but does not produces an executable binary of the code. Because of this, <b>cargo check</b> if sometimes faster than <b>cargo build</b>. So, consider using the former instead of the latter when we do not want to actually produce an executable. This will speed up the process. But, if we are really done with the program, want to compile and release it, we can do"
   ]
  },
  {
   "cell_type": "code",
   "execution_count": null,
   "metadata": {},
   "outputs": [],
   "source": [
    "cargo build --release // this command will not run here, since this is not exactly Rust code"
   ]
  },
  {
   "cell_type": "markdown",
   "metadata": {},
   "source": [
    "to build a program with optimizations. Of course, there will be compile time penalties, in the sense that it will take longer to build a program using the commands above.\n",
    "\n",
    "At last, Cargo commands are not platform dependent.\n",
    "\n",
    "In Rust, we call packages of codes <b>Crates</b>.\n",
    "\n",
    "# Chapter 2 - Programming A Guessing Game\n",
    "\n",
    "Consider the following code:"
   ]
  },
  {
   "cell_type": "code",
   "execution_count": null,
   "metadata": {},
   "outputs": [
    {
     "name": "stdout",
     "output_type": "stream",
     "text": [
      "Guess the number!\n",
      "Please input your guess:\n"
     ]
    }
   ],
   "source": [
    "use std::io; // This brings the io library into scope. The library comes from std,\n",
    "             // which is the Standard Library\n",
    "\n",
    "fn main( ){\n",
    "\n",
    "    println!( \"Guess the number!\" );\n",
    "\n",
    "    println!( \"Please input your guess:\" );\n",
    "\n",
    "    let mut guess = String::new( ); // This creates a mutable String object called guess\n",
    "\n",
    "    io::stdin( ).read_line( &mut guess ).expect( \"Failed to read line\" ); // This invokes a function directly from io\n",
    "\n",
    "    println!( \"Your guessed: {}\", guess );\n",
    "}\n",
    "\n",
    "main( ); // This line is not needed when running Rust in an IDE or\n",
    "         // from a command prompt and using rustc or Cargo"
   ]
  },
  {
   "cell_type": "markdown",
   "metadata": {},
   "source": [
    "To be able to perform some operations in our programs, we need features/functions to handle those operations. We can either make our own functions or use existing ones. To do the latter, we must do\n",
    "\n",
    "<b>use library_name;</b>\n",
    "\n",
    "as in the code above, were we invoked <b>std::io</b> to handle input and output operations. Invoking can be read as <i>bringing into scope</i> with an <b>use</b> statement. \"By default, Rust brings only a few types into the scope of every program in the <i>prelude</i>.\"( KLABNIK, 2019 ).\n",
    "\n",
    "The code \n",
    "\n",
    "<b>let mut guess = String::new();</b>\n",
    "\n",
    "creates a <b>mutable</b> of type <b>String</b> variable where the input in the program will be stored in. The <b>::new()</b> alongside <b>String</b> indicates a function that returns a new instance of <b>String</b>. <b>String</b>s in the standard library of Rust are growable, UTF-8 encoded bits of text.\n",
    "\n",
    "The syntax <b>::</b> in <b>String::new()</b> means that <b>new()</b> is an <i>associated function</i> or <i>static method</i>, i.e., a function implemented and disponible for a whole type, instead of only for its instances.\n",
    "\n",
    "The <b>let</b> is a <b>let statement</b>, which is used to create variables. Also, the variable is <b>mut</b>, or <b>mutable</b>, because its value can be modified, i.e., is not constant. This is important because by default in Rust variables are <b>immutable</b>. At last, values are <b>bound</b> to variables. E.g., consider the following code:"
   ]
  },
  {
   "cell_type": "code",
   "execution_count": 3,
   "metadata": {},
   "outputs": [
    {
     "name": "stdout",
     "output_type": "stream",
     "text": [
      "first: 5\n",
      "second: 5\n",
      "second: 5\n",
      "left list: 3\n",
      "right list: 3\n",
      "left list: 52\n",
      "right list: 3\n"
     ]
    }
   ],
   "source": [
    "fn binding_example( ){\n",
    "\n",
    "    let mut first = 5;\n",
    "    let mut second = first;\n",
    "\n",
    "    println!( \"first: {}\", first );\n",
    "    println!( \"second: {}\", second );\n",
    "\n",
    "    first = 8; // This will NOT modify second\n",
    "\n",
    "    println!( \"second: {}\", second );\n",
    "\n",
    "    let mut left = [ 1, 2, 3, 4,5 ];\n",
    "    let mut right = left;\n",
    "\n",
    "    println!( \"left list: {}\", left[ 2 ] );\n",
    "    println!( \"right list: {}\", right[ 2 ] );\n",
    "\n",
    "    left[ 2 ] = 52; // Ths will NOT modify right[ 2 ]\n",
    "\n",
    "    println!( \"left list: {}\", left[ 2 ] );\n",
    "    println!( \"right list: {}\", right[ 2 ] );\n",
    "}\n",
    "\n",
    "binding_example( );"
   ]
  },
  {
   "cell_type": "markdown",
   "metadata": {},
   "source": [
    "Notice that assignments of variables to variables are made by <b>value</b>, instead of by reference. Roughly speaking, this means that, when we create a new variable and assign to it an old existing variable, we are taking the value of the former and using it on the former, just like in C++ when dealing with normal( not reference nor pointer ) variable. This constrasts with some assignments in Python, where, depending on the type of the object that we are labelling with a variable, assigning another variable to an existing one is the same as providing a new label for that old variable, so that changes in the former WILL affect the later, because we are not only handling the value of the former, we are in fact just giving another label, i.e. new variable, to it. We will get back to this later.\n",
    "\n",
    "<b>Side question:</b> Is Rust statically or dynamically typed? I ask this because the type of <b>guess</b> is at the RHS of the declaration. <b>Answer:</b> Statically typed with type inference. That is why <b>guess</b> works how it does. Refer to: https://doc.rust-lang.org/1.29.0/book/first-edition/variable-bindings.html\n",
    "\n",
    "Now, lets proceed to\n",
    "\n",
    "<b>io::stdin().read_line(</b>**&**<b>mut guess).expect(\"Failed to read line\");</b>\n",
    "\n",
    "A quick note: we used <b>use std::io;</b> to invoke the library <b>std::io</b> and use its facilities at the beginning of the code. We could do the same without the need for <b>use std::io</b> by doing <b>std::io::method_name_here()</b> directly where we need the facility. I.e., we can invoke features/facilites/types from libraries directly in code by using the libray name and the operator </b>::</b>. Now, back to the code.\n",
    "\n",
    "Here, we are calling the method <b>read_line(</b>**&**<b>mut guess)</b>, which gets **&**<b>mut guess</b> as a parameter. The mentioned method is in <b>io::stdin</b>, which, in turn, returns an instance of <b>io::Stdin</b>, that is a type to handle input. <b>read_line</b>, as the name says, gets input from an user. It, in turn, gets this input as an argument and put anything written in the terminal into the string.\n",
    "\n",
    "Also: the **&** in <b>.read_line(</b>**&**<b>mut guess)</b> means that <b>guess</b> is being handled as a <b>REFERENCE</b>. I.e., we are handling <b>guess</b> directly, not a copy of it.\n",
    "\n",
    "Now, the last function called, <b>.expect(\"Failed to read line\");</b>, is used to handle failures in the program. It returns a value of type <b>io::Result</b>, which is an <b>enumeration</b>, i.e., a type with a fixed set of values, called <b>variants</b>. The purpose of the former is to encode error-handling information( KLABNIK, 2019 ). To do so, its variants are <b>Ok</b> and <b>Err</b>. The first signals a successful operation, while the latter signals a failure. When the program fails, <b>Err</b> will display the message passed to it as an argument, i.e., here it is \"Failed to read line\". As for <b>Ok</b>, it will be return when the program proceeded normally, and the value of the former will be the number of bytes in what was passed to input.\n",
    "\n",
    "Not calling <b>.expect()</b> when handling input will not stop compilling, but will raise a warning, because the value of <b>Result</b>, used to indicate errors, is not being used.\n",
    "\n",
    "A last comment about <b>println!()</b>: the curly brackets <b>{}</b> within it are placeholders for the values of the variables that are passed to <b>println!</b>, and they handle those values in sequence. So, if we want to print a sequence of values, we need as many curly brackets as variables and the order in which we want to print them. E.g.:"
   ]
  },
  {
   "cell_type": "code",
   "execution_count": 4,
   "metadata": {},
   "outputs": [
    {
     "name": "stdout",
     "output_type": "stream",
     "text": [
      "first: 43 and second: 11\n"
     ]
    }
   ],
   "source": [
    "let first = 43;\n",
    "let second = 11;\n",
    "\n",
    "println!( \"first: {} and second: {}\", first, second );"
   ]
  },
  {
   "cell_type": "markdown",
   "metadata": {},
   "source": []
  }
 ],
 "metadata": {
  "kernelspec": {
   "display_name": "Rust",
   "language": "rust",
   "name": "rust"
  },
  "language_info": {
   "codemirror_mode": "rust",
   "file_extension": ".rs",
   "mimetype": "text/rust",
   "name": "Rust",
   "pygment_lexer": "rust",
   "version": ""
  }
 },
 "nbformat": 4,
 "nbformat_minor": 4
}
