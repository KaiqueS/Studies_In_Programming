{
 "cells": [
  {
   "cell_type": "markdown",
   "metadata": {},
   "source": [
    "# The Rust Programming Language\n",
    "\n",
    "## Chapter 1 - Gertting Started\n",
    "\n",
    "<b>Note:</b> if you are trying to set up VS Code for Rust, things are quite messy to begin with. Use the extension Rust-Analyzes and Better-Toml. Set up a Cargo.toml file with at least the following code\n",
    "\n",
    "[package]\n",
    "\n",
    "name = \"name_of_file.exe\"\n",
    "version = \"0.0.1\"\n",
    "authors = [ \"Your_name\" ]\n",
    "\n",
    "Then, proceed to create a src folder, and put your main.rs file in it. Run <b>cargo build</b>, and wait for it to finish buildind. After that, run <b>cargo run</b> and the file should be executed.\n",
    "\n",
    "To run it normally through VS Code, select <b>start without debugging</b>, and select a C++ compiler to generate a json file. Add the path to your executable at the appropriate field, save it, and run the file normal through VS code."
   ]
  },
  {
   "cell_type": "code",
   "execution_count": 4,
   "metadata": {},
   "outputs": [
    {
     "name": "stdout",
     "output_type": "stream",
     "text": [
      "Hello, World!\n"
     ]
    }
   ],
   "source": [
    "fn main( ){\n",
    "    \n",
    "    println!( \"Hello, World!\" );\n",
    "}\n",
    "\n",
    "main( );"
   ]
  },
  {
   "cell_type": "markdown",
   "metadata": {},
   "source": []
  },
  {
   "cell_type": "code",
   "execution_count": null,
   "metadata": {},
   "outputs": [],
   "source": []
  }
 ],
 "metadata": {
  "kernelspec": {
   "display_name": "Rust",
   "language": "rust",
   "name": "rust"
  },
  "language_info": {
   "codemirror_mode": "rust",
   "file_extension": ".rs",
   "mimetype": "text/rust",
   "name": "Rust",
   "pygment_lexer": "rust",
   "version": ""
  }
 },
 "nbformat": 4,
 "nbformat_minor": 4
}
